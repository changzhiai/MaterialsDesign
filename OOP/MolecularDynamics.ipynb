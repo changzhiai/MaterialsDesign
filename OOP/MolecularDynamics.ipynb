{
 "cells": [
  {
   "cell_type": "code",
   "execution_count": 2,
   "metadata": {},
   "outputs": [],
   "source": [
    "import numpy as np\n",
    "import ase.data"
   ]
  },
  {
   "cell_type": "code",
   "execution_count": 3,
   "metadata": {},
   "outputs": [
    {
     "name": "stdout",
     "output_type": "stream",
     "text": [
      "{'X': 1.0, 'H': 1.008, 'He': 4.002602, 'Li': 6.94, 'Be': 9.0121831, 'B': 10.81, 'C': 12.011, 'N': 14.007, 'O': 15.999, 'F': 18.998403163, 'Ne': 20.1797, 'Na': 22.98976928, 'Mg': 24.305, 'Al': 26.9815385, 'Si': 28.085, 'P': 30.973761998, 'S': 32.06, 'Cl': 35.45, 'Ar': 39.948, 'K': 39.0983, 'Ca': 40.078, 'Sc': 44.955908, 'Ti': 47.867, 'V': 50.9415, 'Cr': 51.9961, 'Mn': 54.938044, 'Fe': 55.845, 'Co': 58.933194, 'Ni': 58.6934, 'Cu': 63.546, 'Zn': 65.38, 'Ga': 69.723, 'Ge': 72.63, 'As': 74.921595, 'Se': 78.971, 'Br': 79.904, 'Kr': 83.798, 'Rb': 85.4678, 'Sr': 87.62, 'Y': 88.90584, 'Zr': 91.224, 'Nb': 92.90637, 'Mo': 95.95, 'Tc': 97.90721, 'Ru': 101.07, 'Rh': 102.9055, 'Pd': 106.42, 'Ag': 107.8682, 'Cd': 112.414, 'In': 114.818, 'Sn': 118.71, 'Sb': 121.76, 'Te': 127.6, 'I': 126.90447, 'Xe': 131.293, 'Cs': 132.90545196, 'Ba': 137.327, 'La': 138.90547, 'Ce': 140.116, 'Pr': 140.90766, 'Nd': 144.242, 'Pm': 144.91276, 'Sm': 150.36, 'Eu': 151.964, 'Gd': 157.25, 'Tb': 158.92535, 'Dy': 162.5, 'Ho': 164.93033, 'Er': 167.259, 'Tm': 168.93422, 'Yb': 173.054, 'Lu': 174.9668, 'Hf': 178.49, 'Ta': 180.94788, 'W': 183.84, 'Re': 186.207, 'Os': 190.23, 'Ir': 192.217, 'Pt': 195.084, 'Au': 196.966569, 'Hg': 200.592, 'Tl': 204.38, 'Pb': 207.2, 'Bi': 208.9804, 'Po': 208.98243, 'At': 209.98715, 'Rn': 222.01758, 'Fr': 223.01974, 'Ra': 226.02541, 'Ac': 227.02775, 'Th': 232.0377, 'Pa': 231.03588, 'U': 238.02891, 'Np': 237.04817, 'Pu': 244.06421, 'Am': 243.06138, 'Cm': 247.07035, 'Bk': 247.07031, 'Cf': 251.07959, 'Es': 252.083, 'Fm': 257.09511, 'Md': 258.09843, 'No': 259.101, 'Lr': 262.11, 'Rf': 267.122, 'Db': 268.126, 'Sg': 271.134, 'Bh': 270.133, 'Hs': 269.1338, 'Mt': 278.156, 'Ds': 281.165, 'Rg': 281.166, 'Cn': 285.177, 'Nh': 286.182, 'Fl': 289.19, 'Mc': 289.194, 'Lv': 293.204, 'Ts': 293.208, 'Og': 294.214}\n"
     ]
    }
   ],
   "source": [
    "atomic_masses = { k: ase.data.atomic_masses[v] \n",
    "                 for k,v in ase.data.atomic_numbers.items() }\n",
    "print(atomic_masses)"
   ]
  },
  {
   "cell_type": "code",
   "execution_count": 4,
   "metadata": {},
   "outputs": [],
   "source": [
    "class Atom:\n",
    "    def __init__(self, symbol, x, y, z):\n",
    "        self.symbol = symbol\n",
    "        self.position = np.array([x, y, z])\n",
    "        self.velocity = np.zeros(3)\n",
    "        self.mass = atomic_masses[symbol]\n",
    "    def __repr__(self):\n",
    "        template = \"Atom(symbol='{}', position=({:.3f}, {:.3f}, {:.3f}) )\"\n",
    "        return template.format(self.symbol, \n",
    "                               self.position[0],\n",
    "                               self.position[1],\n",
    "                               self.position[2])"
   ]
  },
  {
   "cell_type": "code",
   "execution_count": 5,
   "metadata": {},
   "outputs": [],
   "source": [
    "class Molecule(list):     ## We inherit from built-in class list\n",
    "    # __init__ has been removed.  We could extend it with a type-check\n",
    "    def get_positions(self):\n",
    "        \"Return the positions of all atoms as an Nx3 array\"\n",
    "        return np.array([a.position for a in self])\n",
    "    def set_positions(self, pos):\n",
    "        \"Set the postions of all atoms\"\n",
    "        assert len(pos) == len(self)\n",
    "        for i, p in enumerate(pos):\n",
    "            self[i].position = p\n",
    "    def get_symbols(self):\n",
    "        \"Return a list of the chemical symbols of all atoms\"\n",
    "        return [a.symbol for a in self]\n",
    "    def get_velocities(self):\n",
    "        \"Return the velocities of all atoms as an Nx3 array\"\n",
    "        return np.array([a.velocity for a in self])\n",
    "    def set_velocities(self, vel):\n",
    "        \"Set the postions of all atoms\"\n",
    "        assert len(vel) == len(self)\n",
    "        for i, v in enumerate(vel):\n",
    "            self[i].velocity = v\n",
    "    def get_masses(self):\n",
    "        \"Get the mass of all atoms\"\n",
    "        return np.array([a.mass for a in self])\n",
    "    def __repr__(self):\n",
    "        \"The representation - for brevity include only symbols\"\n",
    "        template = \"Atoms(N={}, symbols: {})\"\n",
    "        all_symbols = \" \".join(self.get_symbols())\n",
    "        return template.format(len(self), all_symbols)\n",
    "    def write_to_file(self, filename):\n",
    "        f = open(filename, \"at\")\n",
    "        print(len(self), file=f)\n",
    "        print(\"A molecule\", file=f)\n",
    "        template = \"{}  {:.3f} {:.3f} {:.3f}\"\n",
    "        for a in self:\n",
    "            print(template.format(a.symbol, a.position[0], a.position[1], a.position[2]), file=f)\n",
    "        f.close()\n"
   ]
  },
  {
   "cell_type": "code",
   "execution_count": 6,
   "metadata": {},
   "outputs": [],
   "source": [
    "class LennardJones:\n",
    "    \"\"\"Lennard Jones potential for a single element.\"\"\"\n",
    "    def __init__(self, element, epsilon, sigma):\n",
    "        \"\"\"Create the potential.\n",
    "        \n",
    "        element: The symbol of the element that will be supported.\n",
    "        \n",
    "        epsilon and sigma: The LJ parameters\n",
    "        \"\"\"\n",
    "        self.element = element\n",
    "        self.sigma = sigma\n",
    "        self.epsilon = epsilon\n",
    "        \n",
    "    def calculate(self, system):\n",
    "        # Check that all atoms have the right element\n",
    "        for a in system:\n",
    "            if a.symbol != self.element:\n",
    "                raise ValueError(\"Found element {} but only support {}\".format(\n",
    "                    a.symbol, self.element))\n",
    "        # The calculation could be optimized by calculating energy and\n",
    "        # forces in the same loop, but keep is simple to begin with...\n",
    "        E = self.calculate_energy(system)\n",
    "        F = self.calculate_forces(system)\n",
    "        return E, F\n",
    "    \n",
    "    def calculate_energy(self, system):\n",
    "        U = 0\n",
    "        N = len(system)  # Number of atoms\n",
    "        for i in range(N):\n",
    "            for j in range(i+1, N):\n",
    "                pos_i = system[i].position\n",
    "                pos_j = system[j].position\n",
    "                dij = self.calculate_d_ij(pos_i, pos_j)\n",
    "                U += self.calculate_U(dij)\n",
    "        return U\n",
    "    \n",
    "    def calculate_d_ij(self, pos_i, pos_j):\n",
    "        d = pos_i - pos_j\n",
    "        d_squared = d * d\n",
    "        return np.sqrt(d_squared.sum())\n",
    "    \n",
    "    def calculate_U(self, dij):\n",
    "        x = (self.sigma / dij)**6\n",
    "        return 4 * self.epsilon * (x**2 - x)\n",
    "    \n",
    "    def calculate_forces(self, system):\n",
    "        # This is NOT EFFICIENT.  Priority has been given to stay\n",
    "        # close to the equations.\n",
    "        N = len(system)  # Number of atoms\n",
    "        F = np.zeros((N, 3))\n",
    "        for k in range(N):\n",
    "            pos_k = system[k].position\n",
    "            for i in range(N):\n",
    "                for j in range(i+1, N):\n",
    "                    # Only nonzero if i = k or j = k.  Skip already here to save time\n",
    "                    if k == i or k == j:\n",
    "                        pos_i = system[i].position\n",
    "                        pos_j = system[j].position\n",
    "                        dij = self.calculate_d_ij(pos_i, pos_j)\n",
    "                        dU_ddij = self.calculate_dUddij(dij)\n",
    "                        # We are calculating components for all three alpha together\n",
    "                        if k == i:\n",
    "                            ddij_dr = self.calculate_ddr(pos_k, pos_j)\n",
    "                        else:  # k == j\n",
    "                            ddij_dr = self.calculate_ddr(pos_k, pos_i)\n",
    "                        F[k] += - dU_ddij * ddij_dr\n",
    "        return F\n",
    "    \n",
    "    def calculate_dUddij(self, dij):\n",
    "        x = (self.sigma / dij)**6\n",
    "        return 4 * self.epsilon * (- 12 * x**2 / dij + 6 * x / dij)\n",
    "    \n",
    "    def calculate_ddr(self, p1, p2):\n",
    "        return (p1 - p2) / self.calculate_d_ij(p1, p2)    "
   ]
  },
  {
   "cell_type": "markdown",
   "metadata": {},
   "source": [
    "The Velocity Verlet algorithm.\n"
   ]
  },
  {
   "cell_type": "code",
   "execution_count": 10,
   "metadata": {},
   "outputs": [],
   "source": [
    "class VelocityVerlet:\n",
    "    def __init__(self, atoms, model, timestep):\n",
    "        self.atoms = atoms\n",
    "        self.model = model\n",
    "        self.timestep = timestep\n",
    "    def run(self, steps):\n",
    "        masses = self.atoms.get_masses()\n",
    "        # masses are now a N array.  We will divide the Nx3 forces with\n",
    "        # the masses, we need to replicate the masses as a Nx3 array\n",
    "        masses = np.outer(masses, np.ones(3))\n",
    "        assert masses.shape == (len(self.atoms),3)\n",
    "        vel = self.atoms.get_velocities()\n",
    "        pos = self.atoms.get_positions()\n",
    "        energy, forces = self.model.calculate(self.atoms)\n",
    "        for step in range(steps):\n",
    "            vel += 0.5 * self.timestep * forces / masses\n",
    "            pos += self.timestep * vel\n",
    "            self.atoms.set_positions(pos)\n",
    "            energy, forces = self.model.calculate(self.atoms)\n",
    "            vel += 0.5 * self.timestep * forces / masses\n",
    "            self.atoms.set_velocities(vel)"
   ]
  },
  {
   "cell_type": "code",
   "execution_count": 11,
   "metadata": {},
   "outputs": [
    {
     "data": {
      "text/plain": [
       "array([[0., 0., 0.],\n",
       "       [1., 1., 1.],\n",
       "       [2., 2., 2.],\n",
       "       [3., 3., 3.],\n",
       "       [4., 4., 4.],\n",
       "       [5., 5., 5.],\n",
       "       [6., 6., 6.],\n",
       "       [7., 7., 7.],\n",
       "       [8., 8., 8.],\n",
       "       [9., 9., 9.]])"
      ]
     },
     "execution_count": 11,
     "metadata": {},
     "output_type": "execute_result"
    }
   ],
   "source": [
    "a = np.arange(10)\n",
    "b = np.ones(3)\n",
    "np.outer(a, b)"
   ]
  },
  {
   "cell_type": "code",
   "execution_count": 12,
   "metadata": {},
   "outputs": [],
   "source": [
    "def dimer(distance):\n",
    "    atom1 = Atom('H', 0, 0, 0)\n",
    "    atom2 = Atom('H', distance, 0, 0)\n",
    "    return Molecule([atom1, atom2])\n",
    "\n",
    "epsilon = 4.4778900\n",
    "sigma = 0.5523570\n",
    "model = LennardJones('H', epsilon, sigma)"
   ]
  },
  {
   "cell_type": "code",
   "execution_count": 20,
   "metadata": {},
   "outputs": [
    {
     "name": "stdout",
     "output_type": "stream",
     "text": [
      "[0 0 0]\n"
     ]
    }
   ],
   "source": [
    "system = dimer(2 * sigma)\n",
    "print(system[0].position)\n",
    "dyn = VelocityVerlet(system, model, 0.01)"
   ]
  },
  {
   "cell_type": "code",
   "execution_count": 14,
   "metadata": {},
   "outputs": [
    {
     "name": "stdout",
     "output_type": "stream",
     "text": [
      "[0.0002923 0.        0.       ]\n"
     ]
    }
   ],
   "source": [
    "dyn.run(2)\n",
    "print(system[0].position)"
   ]
  },
  {
   "cell_type": "code",
   "execution_count": 15,
   "metadata": {},
   "outputs": [],
   "source": [
    "system = dimer(2 * sigma)\n",
    "dyn = VelocityVerlet(system, model, 0.01)\n",
    "for i in range(100):\n",
    "    dyn.run(5)\n",
    "    system.write_to_file(\"moldyn.xyz\")"
   ]
  },
  {
   "cell_type": "code",
   "execution_count": 16,
   "metadata": {},
   "outputs": [
    {
     "name": "stdout",
     "output_type": "stream",
     "text": [
      "DEPRECATION WARNING: The system version of Tk is deprecated and may be removed in a future release. Please don't rely on it. Set TK_SILENCE_DEPRECATION=1 to suppress this warning.\n",
      "Exception in Tkinter callback\n",
      "Traceback (most recent call last):\n",
      "  File \"/usr/local/Cellar/python@3.9/3.9.0_2/Frameworks/Python.framework/Versions/3.9/lib/python3.9/tkinter/__init__.py\", line 1885, in __call__\n",
      "    return self.func(*args)\n",
      "  File \"/Users/schiotz/development/ase/ase/gui/ui.py\", line 210, in <lambda>\n",
      "    self.widget.bind('<Return>', lambda event: self.callback())\n",
      "TypeError: 'NoneType' object is not callable\n"
     ]
    }
   ],
   "source": [
    "!ase gui moldyn.xyz"
   ]
  },
  {
   "cell_type": "code",
   "execution_count": 29,
   "metadata": {},
   "outputs": [],
   "source": [
    "import os\n",
    "os.remove('moldyn.xyz')"
   ]
  },
  {
   "cell_type": "code",
   "execution_count": 30,
   "metadata": {},
   "outputs": [],
   "source": [
    "system = dimer(1.5 * sigma)\n",
    "atom3 = Atom('H', 0, 0.8, 0)\n",
    "system.append(atom3)\n",
    "system.write_to_file(\"test.xyz\")\n",
    "dyn = VelocityVerlet(system, model, 0.01)"
   ]
  },
  {
   "cell_type": "code",
   "execution_count": 31,
   "metadata": {},
   "outputs": [
    {
     "name": "stdout",
     "output_type": "stream",
     "text": [
      "DEPRECATION WARNING: The system version of Tk is deprecated and may be removed in a future release. Please don't rely on it. Set TK_SILENCE_DEPRECATION=1 to suppress this warning.\r\n"
     ]
    }
   ],
   "source": [
    "!ase gui test.xyz"
   ]
  },
  {
   "cell_type": "code",
   "execution_count": 32,
   "metadata": {},
   "outputs": [],
   "source": [
    "for i in range(100):\n",
    "    dyn.run(5)\n",
    "    system.write_to_file(\"moldyn.xyz\")"
   ]
  },
  {
   "cell_type": "code",
   "execution_count": 33,
   "metadata": {},
   "outputs": [
    {
     "name": "stdout",
     "output_type": "stream",
     "text": [
      "DEPRECATION WARNING: The system version of Tk is deprecated and may be removed in a future release. Please don't rely on it. Set TK_SILENCE_DEPRECATION=1 to suppress this warning.\r\n"
     ]
    }
   ],
   "source": [
    "!ase gui moldyn.xyz"
   ]
  },
  {
   "cell_type": "code",
   "execution_count": null,
   "metadata": {},
   "outputs": [],
   "source": []
  }
 ],
 "metadata": {
  "kernelspec": {
   "display_name": "Python 3",
   "language": "python",
   "name": "python3"
  },
  "language_info": {
   "codemirror_mode": {
    "name": "ipython",
    "version": 3
   },
   "file_extension": ".py",
   "mimetype": "text/x-python",
   "name": "python",
   "nbconvert_exporter": "python",
   "pygments_lexer": "ipython3",
   "version": "3.9.0"
  }
 },
 "nbformat": 4,
 "nbformat_minor": 4
}
