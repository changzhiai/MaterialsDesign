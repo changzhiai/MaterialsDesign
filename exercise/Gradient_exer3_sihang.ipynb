{
 "cells": [
  {
   "cell_type": "code",
   "execution_count": 1,
   "metadata": {},
   "outputs": [],
   "source": [
    "import numpy as np"
   ]
  },
  {
   "cell_type": "code",
   "execution_count": 3,
   "metadata": {},
   "outputs": [
    {
     "name": "stdout",
     "output_type": "stream",
     "text": [
      "[[-1.8 -0.8]\n",
      " [-1.8  1. ]\n",
      " [-1.8  2.8]\n",
      " [ 0.  -0.8]\n",
      " [ 0.   1. ]\n",
      " [ 0.   2.8]\n",
      " [ 1.8 -0.8]\n",
      " [ 1.8  1. ]\n",
      " [ 1.8  2.8]\n",
      " [ 0.   0. ]]\n"
     ]
    }
   ],
   "source": [
    "vec_list = np.array(np.meshgrid(np.linspace(-1.8,1.8,3), np.linspace(-0.8,2.8,3))).T.reshape(-1,2)\n",
    "vec_list = np.append(vec_list, np.array([[0.0,0.0]]), axis = 0)\n",
    "print(vec_list)"
   ]
  },
  {
   "cell_type": "code",
   "execution_count": null,
   "metadata": {},
   "outputs": [],
   "source": [
    "def energy(x, y):\n",
    "    z = np.log((2*(y-x **2))**2 + (1 - x)**2 + 1)\n",
    "    return z\n",
    "def force(x, y):\n",
    "    dx = (-16*x*(y-x**2)+2*x - 2)/(4*(y-x**2)**2 + (1 - x)**2 + 1)\n",
    "    dy = (8*(y - x**2))/(4*(y-x**2)**2 + (1 - x)**2 + 1)\n",
    "    return (dx, dy)\n",
    "def force_len(f):\n",
    "    return np.linalg.norm(f)"
   ]
  },
  {
   "cell_type": "code",
   "execution_count": null,
   "metadata": {},
   "outputs": [],
   "source": [
    "#main body of iteration\n",
    "iteration = 0\n",
    "step = 0.05\n",
    "#vec_list_new = []\n",
    "for v in vec_list:\n",
    "    f = force(v[0], v[1])\n",
    "    fl = force_len(f)\n",
    "    vx_update = v[0] - f[0]*step\n",
    "    vy_update = v[1] - f[1]*step\n",
    "    v_update = (vx_update, vy_update)\n",
    "    #vec_list_new.append(v_update)\n",
    "    iteration += 1\n",
    "    for iteration in range(1000):\n",
    "        vx_update = v_update[0] - f[0]*step\n",
    "        vy_update = v_update[1] - f[1]*step\n",
    "        v_update = (vx_update, vy_update)\n",
    "        f = force(v_update[0], v_update[1])\n",
    "        fl = force_len(f)\n",
    "        if fl <= 0.01:\n",
    "            break\n",
    "    #print(vec_list_new)\n",
    "    print(iteration)\n",
    "    print(f)"
   ]
  },
  {
   "cell_type": "code",
   "execution_count": null,
   "metadata": {},
   "outputs": [],
   "source": [
    "#test step\n",
    "\n",
    "for step in np.arange(0,0.05,0.0005): #(0,05)\n",
    "    print(step)\n",
    "    iteration = 0\n",
    "    iterations = []\n",
    "    for v in vec_list:\n",
    "        f = force(v[0], v[1])\n",
    "        fl = force_len(f)\n",
    "        vx_update = v[0] - f[0]*step\n",
    "        vy_update = v[1] - f[1]*step\n",
    "        v_update = (vx_update, vy_update)\n",
    "        iteration += 1\n",
    "        for iteration in range(1000):\n",
    "            vx_update = v_update[0] - f[0]*step\n",
    "            vy_update = v_update[1] - f[1]*step\n",
    "            v_update = (vx_update, vy_update)\n",
    "            f = force(v_update[0], v_update[1])\n",
    "            fl = force_len(f)\n",
    "            if fl <= 0.01:\n",
    "                break\n",
    "        #print(iteration)\n",
    "        iterations.append(iteration)\n",
    "    print(np.mean(iterations))"
   ]
  }
 ],
 "metadata": {
  "kernelspec": {
   "display_name": "Python 3",
   "language": "python",
   "name": "python3"
  },
  "language_info": {
   "codemirror_mode": {
    "name": "ipython",
    "version": 3
   },
   "file_extension": ".py",
   "mimetype": "text/x-python",
   "name": "python",
   "nbconvert_exporter": "python",
   "pygments_lexer": "ipython3",
   "version": "3.8.5"
  }
 },
 "nbformat": 4,
 "nbformat_minor": 4
}
