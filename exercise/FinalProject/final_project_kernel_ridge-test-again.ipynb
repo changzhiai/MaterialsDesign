{
 "cells": [
  {
   "cell_type": "markdown",
   "metadata": {},
   "source": [
    "### Imports "
   ]
  },
  {
   "cell_type": "code",
   "execution_count": 20,
   "metadata": {},
   "outputs": [],
   "source": [
    "import numpy as np\n",
    "import pandas as pd\n",
    "import json\n",
    "#from dscribe.descriptors import CoulombMatrix\n",
    "from ase import Atoms\n",
    "import matplotlib.pyplot as plt\n",
    "import matplotlib\n",
    "font = {'size'   : 22}\n",
    "\n",
    "matplotlib.rc('font', **font)\n",
    "\n"
   ]
  },
  {
   "cell_type": "code",
   "execution_count": 21,
   "metadata": {},
   "outputs": [],
   "source": [
    "def pad_with(vector, pad_width, iaxis, kwargs):\n",
    "     pad_value = kwargs.get('padder', 10)\n",
    "     vector[:pad_width[0]] = pad_value\n",
    "     vector[-pad_width[1]:] = pad_value\n",
    "\n",
    "\n",
    "def coulomb_matrix(atoms, n_atoms_max):\n",
    "    # Creating a matrix with the product of the atomic numbers such that M_ij = Z[i]*Z[j]\n",
    "    atomic_numbers = np.outer(atoms.get_atomic_numbers(),atoms.get_atomic_numbers())\n",
    "    # Getting the distance matrix of the atoms object, such that element D_ij = |r_i - r_j|\n",
    "    distances = atoms.get_all_distances()\n",
    "    # Setting the diagonal elements, which are all zero, to 1 to avoid overflow errors\n",
    "    np.fill_diagonal(distances, 1)\n",
    "    \n",
    "    # Creating the Cmat\n",
    "    cmat = np.multiply(atomic_numbers, 1/distances) # Element wise multiplication\n",
    "    np.fill_diagonal(cmat, 0.5*np.array(atoms.get_atomic_numbers())**2.4) # Filling the diagonal as described in the slides\n",
    "    \n",
    "    # Taking the sorted eigenvalues and padding with zeros such that all of the fingerprints have the same size\n",
    "    shape = cmat.shape\n",
    "    cmat,_ = np.linalg.eig(cmat)\n",
    "    cmat = np.flip(np.sort(cmat))\n",
    "    holder = np.zeros(n_atoms_max)\n",
    "    holder[:shape[0]] = cmat\n",
    "    cmat = holder\n",
    "    \n",
    "    return cmat\n",
    "\n"
   ]
  },
  {
   "cell_type": "markdown",
   "metadata": {},
   "source": [
    "## Loading data and setting up the data frames"
   ]
  },
  {
   "cell_type": "code",
   "execution_count": 22,
   "metadata": {},
   "outputs": [],
   "source": [
    "data_dir = \"\" # Specify your data path (Folder in which the files are placed)"
   ]
  },
  {
   "cell_type": "code",
   "execution_count": 23,
   "metadata": {},
   "outputs": [],
   "source": [
    "# Loading the data as pandas DataFrame\n",
    "train = pd.DataFrame(json.load(open(data_dir + \"train.json\", \"rb\")))\n",
    "train = train[train.dynamic_stability_level != 1] # remove unstable\n",
    "test = pd.DataFrame(json.load(open(data_dir + \"test.json\", \"rb\")))\n",
    "## Transform atoms entry to ASE atoms object\n",
    "train.atoms = train.atoms.apply(lambda x: Atoms(**x)) # OBS This one is important!\n",
    "test.atoms = test.atoms.apply(lambda x: Atoms(**x))"
   ]
  },
  {
   "cell_type": "code",
   "execution_count": 24,
   "metadata": {},
   "outputs": [
    {
     "name": "stdout",
     "output_type": "stream",
     "text": [
      "Train data shape: (1559, 5)\n"
     ]
    },
    {
     "data": {
      "text/html": [
       "<div>\n",
       "<style scoped>\n",
       "    .dataframe tbody tr th:only-of-type {\n",
       "        vertical-align: middle;\n",
       "    }\n",
       "\n",
       "    .dataframe tbody tr th {\n",
       "        vertical-align: top;\n",
       "    }\n",
       "\n",
       "    .dataframe thead th {\n",
       "        text-align: right;\n",
       "    }\n",
       "</style>\n",
       "<table border=\"1\" class=\"dataframe\">\n",
       "  <thead>\n",
       "    <tr style=\"text-align: right;\">\n",
       "      <th></th>\n",
       "      <th>formula</th>\n",
       "      <th>etot</th>\n",
       "      <th>dynamic_stability_level</th>\n",
       "      <th>atoms</th>\n",
       "      <th>Voigt_modulus</th>\n",
       "    </tr>\n",
       "  </thead>\n",
       "  <tbody>\n",
       "    <tr>\n",
       "      <th>1</th>\n",
       "      <td>NiI2</td>\n",
       "      <td>-9.774512</td>\n",
       "      <td>2</td>\n",
       "      <td>(Atom('Ni', [-7.814021732e-19, -1.673235808e-1...</td>\n",
       "      <td>31.358817</td>\n",
       "    </tr>\n",
       "    <tr>\n",
       "      <th>3</th>\n",
       "      <td>Hf4N3O2</td>\n",
       "      <td>-85.216280</td>\n",
       "      <td>3</td>\n",
       "      <td>(Atom('Hf', [0.0, 1.8605461437, 11.1322923235]...</td>\n",
       "      <td>279.073400</td>\n",
       "    </tr>\n",
       "    <tr>\n",
       "      <th>6</th>\n",
       "      <td>Cr2Cl2Se2</td>\n",
       "      <td>-34.354062</td>\n",
       "      <td>3</td>\n",
       "      <td>(Atom('Cr', [2.5217362911, 5.385447366e-16, 9....</td>\n",
       "      <td>47.686173</td>\n",
       "    </tr>\n",
       "    <tr>\n",
       "      <th>8</th>\n",
       "      <td>MoBrI</td>\n",
       "      <td>-13.552381</td>\n",
       "      <td>2</td>\n",
       "      <td>(Atom('Mo', [1.543915598e-17, -1.192455131e-16...</td>\n",
       "      <td>15.989285</td>\n",
       "    </tr>\n",
       "    <tr>\n",
       "      <th>9</th>\n",
       "      <td>Tl2I6</td>\n",
       "      <td>-14.982825</td>\n",
       "      <td>2</td>\n",
       "      <td>(Atom('Tl', [3.8955234015, 2.2490814845, 9.460...</td>\n",
       "      <td>5.012215</td>\n",
       "    </tr>\n",
       "  </tbody>\n",
       "</table>\n",
       "</div>"
      ],
      "text/plain": [
       "     formula       etot  dynamic_stability_level  \\\n",
       "1       NiI2  -9.774512                        2   \n",
       "3    Hf4N3O2 -85.216280                        3   \n",
       "6  Cr2Cl2Se2 -34.354062                        3   \n",
       "8      MoBrI -13.552381                        2   \n",
       "9      Tl2I6 -14.982825                        2   \n",
       "\n",
       "                                               atoms  Voigt_modulus  \n",
       "1  (Atom('Ni', [-7.814021732e-19, -1.673235808e-1...      31.358817  \n",
       "3  (Atom('Hf', [0.0, 1.8605461437, 11.1322923235]...     279.073400  \n",
       "6  (Atom('Cr', [2.5217362911, 5.385447366e-16, 9....      47.686173  \n",
       "8  (Atom('Mo', [1.543915598e-17, -1.192455131e-16...      15.989285  \n",
       "9  (Atom('Tl', [3.8955234015, 2.2490814845, 9.460...       5.012215  "
      ]
     },
     "execution_count": 24,
     "metadata": {},
     "output_type": "execute_result"
    }
   ],
   "source": [
    "print('Train data shape: {}'.format(train.shape))\n",
    "train.head()"
   ]
  },
  {
   "cell_type": "code",
   "execution_count": 25,
   "metadata": {},
   "outputs": [
    {
     "data": {
      "text/plain": [
       "Atoms(symbols='Hf4N3O2', pbc=[True, True, False], cell=[[3.2225604508, -6.60462343e-21, 0.0], [-1.6112802254, 2.7908192156, 0.0], [0.0, 0.0, 24.8736800674]])"
      ]
     },
     "execution_count": 25,
     "metadata": {},
     "output_type": "execute_result"
    }
   ],
   "source": [
    "train.atoms[1]"
   ]
  },
  {
   "cell_type": "code",
   "execution_count": 26,
   "metadata": {},
   "outputs": [
    {
     "name": "stdout",
     "output_type": "stream",
     "text": [
      "Test data shape: (264, 3)\n"
     ]
    },
    {
     "data": {
      "text/html": [
       "<div>\n",
       "<style scoped>\n",
       "    .dataframe tbody tr th:only-of-type {\n",
       "        vertical-align: middle;\n",
       "    }\n",
       "\n",
       "    .dataframe tbody tr th {\n",
       "        vertical-align: top;\n",
       "    }\n",
       "\n",
       "    .dataframe thead th {\n",
       "        text-align: right;\n",
       "    }\n",
       "</style>\n",
       "<table border=\"1\" class=\"dataframe\">\n",
       "  <thead>\n",
       "    <tr style=\"text-align: right;\">\n",
       "      <th></th>\n",
       "      <th>formula</th>\n",
       "      <th>etot</th>\n",
       "      <th>atoms</th>\n",
       "    </tr>\n",
       "  </thead>\n",
       "  <tbody>\n",
       "    <tr>\n",
       "      <th>0</th>\n",
       "      <td>Ti2Te2</td>\n",
       "      <td>-21.567884</td>\n",
       "      <td>(Atom('Te', [0.0001635792, 0.0005756553, 7.369...</td>\n",
       "    </tr>\n",
       "    <tr>\n",
       "      <th>1</th>\n",
       "      <td>Cu2O2</td>\n",
       "      <td>-19.429111</td>\n",
       "      <td>(Atom('Cu', [-3.606786318e-18, -0.0002926462, ...</td>\n",
       "    </tr>\n",
       "    <tr>\n",
       "      <th>2</th>\n",
       "      <td>Y3C2</td>\n",
       "      <td>-33.214554</td>\n",
       "      <td>(Atom('Y', [3.531761251e-18, -5.785592543e-18,...</td>\n",
       "    </tr>\n",
       "    <tr>\n",
       "      <th>3</th>\n",
       "      <td>Ti2O4</td>\n",
       "      <td>-51.580206</td>\n",
       "      <td>(Atom('Ti', [1.135647763e-19, 0.0301387729, 8....</td>\n",
       "    </tr>\n",
       "    <tr>\n",
       "      <th>4</th>\n",
       "      <td>BiMoAs</td>\n",
       "      <td>-19.967820</td>\n",
       "      <td>(Atom('Mo', [6.983934515e-18, 2.357780987e-16,...</td>\n",
       "    </tr>\n",
       "  </tbody>\n",
       "</table>\n",
       "</div>"
      ],
      "text/plain": [
       "  formula       etot                                              atoms\n",
       "0  Ti2Te2 -21.567884  (Atom('Te', [0.0001635792, 0.0005756553, 7.369...\n",
       "1   Cu2O2 -19.429111  (Atom('Cu', [-3.606786318e-18, -0.0002926462, ...\n",
       "2    Y3C2 -33.214554  (Atom('Y', [3.531761251e-18, -5.785592543e-18,...\n",
       "3   Ti2O4 -51.580206  (Atom('Ti', [1.135647763e-19, 0.0301387729, 8....\n",
       "4  BiMoAs -19.967820  (Atom('Mo', [6.983934515e-18, 2.357780987e-16,..."
      ]
     },
     "execution_count": 26,
     "metadata": {},
     "output_type": "execute_result"
    }
   ],
   "source": [
    "print('Test data shape: {}'.format(test.shape))\n",
    "test.head()"
   ]
  },
  {
   "cell_type": "code",
   "execution_count": 27,
   "metadata": {},
   "outputs": [
    {
     "data": {
      "text/plain": [
       "Atoms(symbols='CuOCuO', pbc=[True, True, False], cell=[[2.8049685284, 1.734570062e-17, 0.0], [-3.746612841e-17, 5.602487274, 0.0], [-7.217855535e-18, 0.0, 16.9711719]])"
      ]
     },
     "execution_count": 27,
     "metadata": {},
     "output_type": "execute_result"
    }
   ],
   "source": [
    "test.atoms[1]"
   ]
  },
  {
   "cell_type": "code",
   "execution_count": 28,
   "metadata": {},
   "outputs": [
    {
     "data": {
      "text/plain": [
       "(array([2, 3], dtype=int64), array([ 538, 1021], dtype=int64))"
      ]
     },
     "execution_count": 28,
     "metadata": {},
     "output_type": "execute_result"
    }
   ],
   "source": [
    "np.unique(train.dynamic_stability_level,return_counts=True)"
   ]
  },
  {
   "cell_type": "code",
   "execution_count": null,
   "metadata": {},
   "outputs": [],
   "source": []
  },
  {
   "cell_type": "markdown",
   "metadata": {},
   "source": [
    "## Creating the Coulomb matrix fingerprint\n",
    "#### First a preprocessing step"
   ]
  },
  {
   "cell_type": "code",
   "execution_count": 29,
   "metadata": {},
   "outputs": [
    {
     "name": "stdout",
     "output_type": "stream",
     "text": [
      "12\n"
     ]
    },
    {
     "name": "stderr",
     "output_type": "stream",
     "text": [
      "C:\\software\\anoconda\\lib\\site-packages\\ase\\atoms.py:971: VisibleDeprecationWarning: Use get_global_number_of_atoms() instead\n",
      "  warnings.warn('Use get_global_number_of_atoms() instead',\n"
     ]
    }
   ],
   "source": [
    "species = []\n",
    "number_of_atoms = []\n",
    "atomic_numbers = []\n",
    "for atom in pd.concat([train.atoms,test.atoms]):\n",
    "    species = list(set(species+atom.get_chemical_symbols()))\n",
    "    atomic_numbers = list(set(atomic_numbers+list(atom.get_atomic_numbers())))\n",
    "    number_of_atoms.append(atom.get_number_of_atoms())\n",
    "\n",
    "max_number_of_atoms = np.max(number_of_atoms)\n",
    "min_atomic_number = np.min(atomic_numbers)\n",
    "max_atomic_number = np.max(atomic_numbers)\n",
    "\n",
    "print(max_number_of_atoms)"
   ]
  },
  {
   "cell_type": "markdown",
   "metadata": {},
   "source": [
    "#### Coulomb matrix"
   ]
  },
  {
   "cell_type": "code",
   "execution_count": 30,
   "metadata": {},
   "outputs": [
    {
     "name": "stdout",
     "output_type": "stream",
     "text": [
      "0\n",
      "1000\n",
      "1559\n"
     ]
    }
   ],
   "source": [
    "cmats = np.zeros((len(train),max_number_of_atoms))\n",
    "for i,atoms in enumerate(train.atoms):\n",
    "    if i%1000 == 0:\n",
    "        print(i)\n",
    "    cmat = coulomb_matrix(atoms,max_number_of_atoms)\n",
    "    cmats[i,:] = cmat.flatten()\n",
    "print(len(cmats))"
   ]
  },
  {
   "cell_type": "code",
   "execution_count": 31,
   "metadata": {},
   "outputs": [
    {
     "data": {
      "text/plain": [
       "(12,)"
      ]
     },
     "execution_count": 31,
     "metadata": {},
     "output_type": "execute_result"
    }
   ],
   "source": [
    "cmat.shape"
   ]
  },
  {
   "cell_type": "code",
   "execution_count": 32,
   "metadata": {},
   "outputs": [
    {
     "name": "stdout",
     "output_type": "stream",
     "text": [
      "1559 (1559, 12)\n"
     ]
    }
   ],
   "source": [
    "print(len(cmats), cmats.shape)"
   ]
  },
  {
   "cell_type": "markdown",
   "metadata": {},
   "source": [
    "# Setting target and feature vector"
   ]
  },
  {
   "cell_type": "code",
   "execution_count": 33,
   "metadata": {},
   "outputs": [
    {
     "name": "stdout",
     "output_type": "stream",
     "text": [
      "X: (1559, 12)\n",
      "y: (1559,)\n"
     ]
    }
   ],
   "source": [
    "X = pd.DataFrame(data = cmats, index=train.index)\n",
    "y = train['Voigt_modulus']\n",
    "print('X: {}'.format(X.shape))\n",
    "print('y: {}'.format(y.shape))"
   ]
  },
  {
   "cell_type": "markdown",
   "metadata": {},
   "source": [
    "## Splitting into test and train set"
   ]
  },
  {
   "cell_type": "code",
   "execution_count": 34,
   "metadata": {},
   "outputs": [
    {
     "data": {
      "image/png": "[encoded data removed]",
      "text/plain": [
       "<Figure size 864x432 with 1 Axes>"
      ]
     },
     "metadata": {
      "needs_background": "light"
     },
     "output_type": "display_data"
    }
   ],
   "source": [
    "from sklearn.model_selection import train_test_split\n",
    "\n",
    "X_train,X_test,y_train,y_test = train_test_split(X,y,test_size=0.01,random_state=250)\n",
    "# X_train,X_test,y_train,y_test = train_test_split(X,y,test_size=0.1)\n",
    "\n",
    "plt.figure(figsize = (12, 6))\n",
    "plt.hist(y_train, bins=30, alpha=0.7, density=True, label='Train set')\n",
    "plt.hist(y_test, bins=30, alpha=0.7, density=True, label='Test set')\n",
    "\n",
    "plt.title(\"Normalized histogram of test and train sets\")\n",
    "plt.xlabel(\"Voigt modulus, GPa\")\n",
    "plt.legend()\n",
    "plt.show()\n"
   ]
  },
  {
   "cell_type": "code",
   "execution_count": 35,
   "metadata": {},
   "outputs": [
    {
     "name": "stdout",
     "output_type": "stream",
     "text": [
      "X_train: (1543, 12)\n",
      "y_train: (1543,)\n",
      "X_test: (16, 12)\n",
      "y_test: (16,)\n"
     ]
    }
   ],
   "source": [
    "print('X_train: {}'.format(X_train.shape))\n",
    "print('y_train: {}'.format(y_train.shape))\n",
    "print('X_test: {}'.format(X_test.shape))\n",
    "print('y_test: {}'.format(y_test.shape))"
   ]
  },
  {
   "cell_type": "code",
   "execution_count": 36,
   "metadata": {},
   "outputs": [
    {
     "data": {
      "text/html": [
       "<div>\n",
       "<style scoped>\n",
       "    .dataframe tbody tr th:only-of-type {\n",
       "        vertical-align: middle;\n",
       "    }\n",
       "\n",
       "    .dataframe tbody tr th {\n",
       "        vertical-align: top;\n",
       "    }\n",
       "\n",
       "    .dataframe thead th {\n",
       "        text-align: right;\n",
       "    }\n",
       "</style>\n",
       "<table border=\"1\" class=\"dataframe\">\n",
       "  <thead>\n",
       "    <tr style=\"text-align: right;\">\n",
       "      <th></th>\n",
       "      <th>0</th>\n",
       "      <th>1</th>\n",
       "      <th>2</th>\n",
       "      <th>3</th>\n",
       "      <th>4</th>\n",
       "      <th>5</th>\n",
       "      <th>6</th>\n",
       "      <th>7</th>\n",
       "      <th>8</th>\n",
       "      <th>9</th>\n",
       "      <th>10</th>\n",
       "      <th>11</th>\n",
       "    </tr>\n",
       "  </thead>\n",
       "  <tbody>\n",
       "    <tr>\n",
       "      <th>93</th>\n",
       "      <td>7985.760045</td>\n",
       "      <td>2732.554525</td>\n",
       "      <td>2206.022711</td>\n",
       "      <td>0.000000</td>\n",
       "      <td>0.000000</td>\n",
       "      <td>0.000000</td>\n",
       "      <td>0.0</td>\n",
       "      <td>0.0</td>\n",
       "      <td>0.0</td>\n",
       "      <td>0.0</td>\n",
       "      <td>0.0</td>\n",
       "      <td>0.0</td>\n",
       "    </tr>\n",
       "    <tr>\n",
       "      <th>1390</th>\n",
       "      <td>3841.894307</td>\n",
       "      <td>2415.091602</td>\n",
       "      <td>2102.436086</td>\n",
       "      <td>1985.188098</td>\n",
       "      <td>1367.067515</td>\n",
       "      <td>1338.763044</td>\n",
       "      <td>0.0</td>\n",
       "      <td>0.0</td>\n",
       "      <td>0.0</td>\n",
       "      <td>0.0</td>\n",
       "      <td>0.0</td>\n",
       "      <td>0.0</td>\n",
       "    </tr>\n",
       "    <tr>\n",
       "      <th>1626</th>\n",
       "      <td>16502.619903</td>\n",
       "      <td>12706.579813</td>\n",
       "      <td>6783.714019</td>\n",
       "      <td>6437.045033</td>\n",
       "      <td>0.000000</td>\n",
       "      <td>0.000000</td>\n",
       "      <td>0.0</td>\n",
       "      <td>0.0</td>\n",
       "      <td>0.0</td>\n",
       "      <td>0.0</td>\n",
       "      <td>0.0</td>\n",
       "      <td>0.0</td>\n",
       "    </tr>\n",
       "    <tr>\n",
       "      <th>1047</th>\n",
       "      <td>18553.536919</td>\n",
       "      <td>14119.633004</td>\n",
       "      <td>95.970248</td>\n",
       "      <td>81.146593</td>\n",
       "      <td>0.000000</td>\n",
       "      <td>0.000000</td>\n",
       "      <td>0.0</td>\n",
       "      <td>0.0</td>\n",
       "      <td>0.0</td>\n",
       "      <td>0.0</td>\n",
       "      <td>0.0</td>\n",
       "      <td>0.0</td>\n",
       "    </tr>\n",
       "    <tr>\n",
       "      <th>159</th>\n",
       "      <td>3029.232593</td>\n",
       "      <td>2074.539321</td>\n",
       "      <td>1135.207480</td>\n",
       "      <td>987.013323</td>\n",
       "      <td>0.000000</td>\n",
       "      <td>0.000000</td>\n",
       "      <td>0.0</td>\n",
       "      <td>0.0</td>\n",
       "      <td>0.0</td>\n",
       "      <td>0.0</td>\n",
       "      <td>0.0</td>\n",
       "      <td>0.0</td>\n",
       "    </tr>\n",
       "  </tbody>\n",
       "</table>\n",
       "</div>"
      ],
      "text/plain": [
       "                0             1            2            3            4   \\\n",
       "93     7985.760045   2732.554525  2206.022711     0.000000     0.000000   \n",
       "1390   3841.894307   2415.091602  2102.436086  1985.188098  1367.067515   \n",
       "1626  16502.619903  12706.579813  6783.714019  6437.045033     0.000000   \n",
       "1047  18553.536919  14119.633004    95.970248    81.146593     0.000000   \n",
       "159    3029.232593   2074.539321  1135.207480   987.013323     0.000000   \n",
       "\n",
       "               5    6    7    8    9    10   11  \n",
       "93       0.000000  0.0  0.0  0.0  0.0  0.0  0.0  \n",
       "1390  1338.763044  0.0  0.0  0.0  0.0  0.0  0.0  \n",
       "1626     0.000000  0.0  0.0  0.0  0.0  0.0  0.0  \n",
       "1047     0.000000  0.0  0.0  0.0  0.0  0.0  0.0  \n",
       "159      0.000000  0.0  0.0  0.0  0.0  0.0  0.0  "
      ]
     },
     "execution_count": 36,
     "metadata": {},
     "output_type": "execute_result"
    }
   ],
   "source": [
    "X_train[:5]"
   ]
  },
  {
   "cell_type": "markdown",
   "metadata": {},
   "source": [
    "# Sklearn Ridge Regression model"
   ]
  },
  {
   "cell_type": "code",
   "execution_count": 37,
   "metadata": {},
   "outputs": [],
   "source": [
    "# from sklearn.linear_model import LinearRegression\n",
    "from sklearn.metrics import mean_squared_error as mse\n",
    "\n",
    "def rmse(y_true, y_pred):\n",
    "    return np.sqrt(mse(y_true, y_pred))"
   ]
  },
  {
   "cell_type": "code",
   "execution_count": 38,
   "metadata": {},
   "outputs": [],
   "source": [
    "from sklearn.preprocessing import StandardScaler\n",
    "scaler = StandardScaler().fit(X_train)\n",
    "X_train = scaler.transform(X_train)\n",
    "X_test = scaler.transform(X_test)"
   ]
  },
  {
   "cell_type": "code",
   "execution_count": 48,
   "metadata": {},
   "outputs": [
    {
     "name": "stdout",
     "output_type": "stream",
     "text": [
      "Fitting 5 folds for each of 400 candidates, totalling 2000 fits\n"
     ]
    },
    {
     "name": "stderr",
     "output_type": "stream",
     "text": [
      "[Parallel(n_jobs=4)]: Using backend LokyBackend with 4 concurrent workers.\n",
      "[Parallel(n_jobs=4)]: Done  76 tasks      | elapsed:    3.9s\n",
      "[Parallel(n_jobs=4)]: Done 376 tasks      | elapsed:   22.2s\n",
      "[Parallel(n_jobs=4)]: Done 876 tasks      | elapsed:   55.4s\n",
      "[Parallel(n_jobs=4)]: Done 1576 tasks      | elapsed:  1.7min\n",
      "[Parallel(n_jobs=4)]: Done 2000 out of 2000 | elapsed:  2.3min finished\n"
     ]
    },
    {
     "name": "stdout",
     "output_type": "stream",
     "text": [
      "loop: 0\n",
      "{'alpha': 0.04832930238571752, 'gamma': 6.1584821106602545}\n",
      "KernelRidge(alpha=0.04832930238571752, gamma=6.1584821106602545, kernel='rbf')\n",
      "Fitting 5 folds for each of 400 candidates, totalling 2000 fits\n"
     ]
    },
    {
     "name": "stderr",
     "output_type": "stream",
     "text": [
      "[Parallel(n_jobs=4)]: Using backend LokyBackend with 4 concurrent workers.\n",
      "[Parallel(n_jobs=4)]: Done  42 tasks      | elapsed:    2.5s\n",
      "[Parallel(n_jobs=4)]: Done 192 tasks      | elapsed:   14.9s\n",
      "[Parallel(n_jobs=4)]: Done 442 tasks      | elapsed:   32.9s\n",
      "[Parallel(n_jobs=4)]: Done 792 tasks      | elapsed:   57.4s\n",
      "[Parallel(n_jobs=4)]: Done 1242 tasks      | elapsed:  1.4min\n",
      "[Parallel(n_jobs=4)]: Done 1792 tasks      | elapsed:  2.1min\n",
      "[Parallel(n_jobs=4)]: Done 2000 out of 2000 | elapsed:  2.4min finished\n"
     ]
    },
    {
     "name": "stdout",
     "output_type": "stream",
     "text": [
      "loop: 1\n",
      "{'alpha': 0.04832930238571752, 'gamma': 6.1584821106602545}\n",
      "KernelRidge(alpha=0.04832930238571752, gamma=6.1584821106602545, kernel='rbf')\n",
      "Fitting 5 folds for each of 400 candidates, totalling 2000 fits\n"
     ]
    },
    {
     "name": "stderr",
     "output_type": "stream",
     "text": [
      "[Parallel(n_jobs=4)]: Using backend LokyBackend with 4 concurrent workers.\n",
      "[Parallel(n_jobs=4)]: Done  42 tasks      | elapsed:    3.3s\n",
      "[Parallel(n_jobs=4)]: Done 192 tasks      | elapsed:   15.1s\n",
      "[Parallel(n_jobs=4)]: Done 442 tasks      | elapsed:   33.7s\n",
      "[Parallel(n_jobs=4)]: Done 792 tasks      | elapsed:  1.0min\n",
      "[Parallel(n_jobs=4)]: Done 1242 tasks      | elapsed:  1.5min\n",
      "[Parallel(n_jobs=4)]: Done 1792 tasks      | elapsed:  2.1min\n",
      "[Parallel(n_jobs=4)]: Done 2000 out of 2000 | elapsed:  2.4min finished\n"
     ]
    },
    {
     "name": "stdout",
     "output_type": "stream",
     "text": [
      "loop: 2\n",
      "{'alpha': 0.04832930238571752, 'gamma': 6.1584821106602545}\n",
      "KernelRidge(alpha=0.04832930238571752, gamma=6.1584821106602545, kernel='rbf')\n",
      "Fitting 5 folds for each of 400 candidates, totalling 2000 fits\n"
     ]
    },
    {
     "name": "stderr",
     "output_type": "stream",
     "text": [
      "[Parallel(n_jobs=4)]: Using backend LokyBackend with 4 concurrent workers.\n",
      "[Parallel(n_jobs=4)]: Done  76 tasks      | elapsed:    4.6s\n",
      "[Parallel(n_jobs=4)]: Done 376 tasks      | elapsed:   25.7s\n",
      "[Parallel(n_jobs=4)]: Done 876 tasks      | elapsed:   59.2s\n",
      "[Parallel(n_jobs=4)]: Done 1440 tasks      | elapsed:  1.6min\n",
      "[Parallel(n_jobs=4)]: Done 1890 tasks      | elapsed:  2.1min\n",
      "[Parallel(n_jobs=4)]: Done 2000 out of 2000 | elapsed:  2.3min finished\n",
      "[Parallel(n_jobs=4)]: Using backend LokyBackend with 4 concurrent workers.\n"
     ]
    },
    {
     "name": "stdout",
     "output_type": "stream",
     "text": [
      "loop: 3\n",
      "{'alpha': 0.04832930238571752, 'gamma': 6.1584821106602545}\n",
      "KernelRidge(alpha=0.04832930238571752, gamma=6.1584821106602545, kernel='rbf')\n",
      "Fitting 5 folds for each of 400 candidates, totalling 2000 fits\n"
     ]
    },
    {
     "name": "stderr",
     "output_type": "stream",
     "text": [
      "[Parallel(n_jobs=4)]: Done  76 tasks      | elapsed:    4.6s\n",
      "[Parallel(n_jobs=4)]: Done 376 tasks      | elapsed:   23.3s\n",
      "[Parallel(n_jobs=4)]: Done 876 tasks      | elapsed:   54.8s\n",
      "[Parallel(n_jobs=4)]: Done 1576 tasks      | elapsed:  1.6min\n",
      "[Parallel(n_jobs=4)]: Done 2000 out of 2000 | elapsed:  2.1min finished\n"
     ]
    },
    {
     "name": "stdout",
     "output_type": "stream",
     "text": [
      "loop: 4\n",
      "{'alpha': 0.04832930238571752, 'gamma': 6.1584821106602545}\n",
      "KernelRidge(alpha=0.04832930238571752, gamma=6.1584821106602545, kernel='rbf')\n",
      "Fitting 5 folds for each of 400 candidates, totalling 2000 fits\n"
     ]
    },
    {
     "name": "stderr",
     "output_type": "stream",
     "text": [
      "[Parallel(n_jobs=4)]: Using backend LokyBackend with 4 concurrent workers.\n",
      "[Parallel(n_jobs=4)]: Done  76 tasks      | elapsed:    4.8s\n",
      "[Parallel(n_jobs=4)]: Done 376 tasks      | elapsed:   24.6s\n",
      "[Parallel(n_jobs=4)]: Done 876 tasks      | elapsed:   59.2s\n",
      "[Parallel(n_jobs=4)]: Done 1576 tasks      | elapsed:  1.8min\n",
      "[Parallel(n_jobs=4)]: Done 2000 out of 2000 | elapsed:  2.2min finished\n"
     ]
    },
    {
     "name": "stdout",
     "output_type": "stream",
     "text": [
      "loop: 5\n",
      "{'alpha': 0.04832930238571752, 'gamma': 6.1584821106602545}\n",
      "KernelRidge(alpha=0.04832930238571752, gamma=6.1584821106602545, kernel='rbf')\n",
      "Fitting 5 folds for each of 400 candidates, totalling 2000 fits\n"
     ]
    },
    {
     "name": "stderr",
     "output_type": "stream",
     "text": [
      "[Parallel(n_jobs=4)]: Using backend LokyBackend with 4 concurrent workers.\n",
      "[Parallel(n_jobs=4)]: Done  42 tasks      | elapsed:    2.2s\n",
      "[Parallel(n_jobs=4)]: Done 192 tasks      | elapsed:   14.0s\n",
      "[Parallel(n_jobs=4)]: Done 442 tasks      | elapsed:   30.4s\n",
      "[Parallel(n_jobs=4)]: Done 792 tasks      | elapsed:   54.0s\n",
      "[Parallel(n_jobs=4)]: Done 1242 tasks      | elapsed:  1.4min\n",
      "[Parallel(n_jobs=4)]: Done 1792 tasks      | elapsed:  2.1min\n",
      "[Parallel(n_jobs=4)]: Done 2000 out of 2000 | elapsed:  2.3min finished\n"
     ]
    },
    {
     "name": "stdout",
     "output_type": "stream",
     "text": [
      "loop: 6\n",
      "{'alpha': 0.04832930238571752, 'gamma': 6.1584821106602545}\n",
      "KernelRidge(alpha=0.04832930238571752, gamma=6.1584821106602545, kernel='rbf')\n",
      "Fitting 5 folds for each of 400 candidates, totalling 2000 fits\n"
     ]
    },
    {
     "name": "stderr",
     "output_type": "stream",
     "text": [
      "[Parallel(n_jobs=4)]: Using backend LokyBackend with 4 concurrent workers.\n",
      "[Parallel(n_jobs=4)]: Done  42 tasks      | elapsed:    2.2s\n",
      "[Parallel(n_jobs=4)]: Done 192 tasks      | elapsed:   12.2s\n",
      "[Parallel(n_jobs=4)]: Done 442 tasks      | elapsed:   29.8s\n",
      "[Parallel(n_jobs=4)]: Done 792 tasks      | elapsed:   54.4s\n",
      "[Parallel(n_jobs=4)]: Done 1242 tasks      | elapsed:  1.4min\n",
      "[Parallel(n_jobs=4)]: Done 1792 tasks      | elapsed:  2.0min\n",
      "[Parallel(n_jobs=4)]: Done 2000 out of 2000 | elapsed:  2.3min finished\n"
     ]
    },
    {
     "name": "stdout",
     "output_type": "stream",
     "text": [
      "loop: 7\n",
      "{'alpha': 0.04832930238571752, 'gamma': 6.1584821106602545}\n",
      "KernelRidge(alpha=0.04832930238571752, gamma=6.1584821106602545, kernel='rbf')\n",
      "Fitting 5 folds for each of 400 candidates, totalling 2000 fits\n"
     ]
    },
    {
     "name": "stderr",
     "output_type": "stream",
     "text": [
      "[Parallel(n_jobs=4)]: Using backend LokyBackend with 4 concurrent workers.\n",
      "[Parallel(n_jobs=4)]: Done  76 tasks      | elapsed:    4.4s\n",
      "[Parallel(n_jobs=4)]: Done 376 tasks      | elapsed:   23.7s\n",
      "[Parallel(n_jobs=4)]: Done 876 tasks      | elapsed:   54.2s\n",
      "[Parallel(n_jobs=4)]: Done 1576 tasks      | elapsed:  1.7min\n",
      "[Parallel(n_jobs=4)]: Done 2000 out of 2000 | elapsed:  2.2min finished\n"
     ]
    },
    {
     "name": "stdout",
     "output_type": "stream",
     "text": [
      "loop: 8\n",
      "{'alpha': 0.04832930238571752, 'gamma': 6.1584821106602545}\n",
      "KernelRidge(alpha=0.04832930238571752, gamma=6.1584821106602545, kernel='rbf')\n",
      "Fitting 5 folds for each of 400 candidates, totalling 2000 fits\n"
     ]
    },
    {
     "name": "stderr",
     "output_type": "stream",
     "text": [
      "[Parallel(n_jobs=4)]: Using backend LokyBackend with 4 concurrent workers.\n",
      "[Parallel(n_jobs=4)]: Done  76 tasks      | elapsed:    4.5s\n",
      "[Parallel(n_jobs=4)]: Done 376 tasks      | elapsed:   23.1s\n",
      "[Parallel(n_jobs=4)]: Done 876 tasks      | elapsed:   55.3s\n",
      "[Parallel(n_jobs=4)]: Done 1576 tasks      | elapsed:  1.7min\n",
      "[Parallel(n_jobs=4)]: Done 2000 out of 2000 | elapsed:  2.2min finished\n"
     ]
    },
    {
     "name": "stdout",
     "output_type": "stream",
     "text": [
      "loop: 9\n",
      "{'alpha': 0.04832930238571752, 'gamma': 6.1584821106602545}\n",
      "KernelRidge(alpha=0.04832930238571752, gamma=6.1584821106602545, kernel='rbf')\n",
      "Fitting 5 folds for each of 400 candidates, totalling 2000 fits\n"
     ]
    },
    {
     "name": "stderr",
     "output_type": "stream",
     "text": [
      "[Parallel(n_jobs=4)]: Using backend LokyBackend with 4 concurrent workers.\n",
      "[Parallel(n_jobs=4)]: Done  76 tasks      | elapsed:    4.4s\n",
      "[Parallel(n_jobs=4)]: Done 376 tasks      | elapsed:   24.4s\n",
      "[Parallel(n_jobs=4)]: Done 876 tasks      | elapsed:   57.5s\n",
      "[Parallel(n_jobs=4)]: Done 1576 tasks      | elapsed:  1.7min\n",
      "[Parallel(n_jobs=4)]: Done 2000 out of 2000 | elapsed:  2.2min finished\n"
     ]
    },
    {
     "name": "stdout",
     "output_type": "stream",
     "text": [
      "Train RMSE = 18.11\n",
      "Test RMSE = 22.82\n"
     ]
    }
   ],
   "source": [
    "# from sklearn.gaussian_process import GaussianProcessRegressor\n",
    "# from sklearn.gaussian_process.kernels import RBF, ConstantKernel as C\n",
    "\n",
    "from sklearn.kernel_ridge import KernelRidge\n",
    "import sklearn.model_selection as ms\n",
    "\n",
    "model = KernelRidge(kernel='rbf')\n",
    "param_grid = {'alpha': np.logspace(-5, 5, 20),\n",
    "              'gamma': np.logspace(-5, 5, 20)}\n",
    "gp = ms.GridSearchCV(model, param_grid=param_grid, cv=5, n_jobs=4, verbose=1)\n",
    "\n",
    "# X_train,X_test,y_train,y_test\n",
    "# Fit to data using Maximum Likelihood Estimation of the parameters\n",
    "\n",
    "gp.fit(X_train, y_train)\n",
    "\n",
    "for i in range(10):\n",
    "    print('loop:', i)\n",
    "    best_params = gp.best_params_\n",
    "    print(best_params)\n",
    "    model.set_params(**best_params)\n",
    "    print(model)\n",
    "    gp.fit(X_train, y_train)\n",
    "\n",
    "train_prediction = gp.predict(X_train)\n",
    "# train_prediction\n",
    "test_prediction = gp.predict(X_test)\n",
    "# test_prediction\n",
    "print('Train RMSE = {:.2f}'.format(rmse(y_train,train_prediction)))\n",
    "print('Test RMSE = {:.2f}'.format(rmse(y_test,test_prediction)))"
   ]
  },
  {
   "cell_type": "code",
   "execution_count": 41,
   "metadata": {},
   "outputs": [
    {
     "data": {
      "text/plain": [
       "{'cv': 5,\n",
       " 'error_score': nan,\n",
       " 'estimator__alpha': 0.04832930238571752,\n",
       " 'estimator__coef0': 1,\n",
       " 'estimator__degree': 3,\n",
       " 'estimator__gamma': 6.1584821106602545,\n",
       " 'estimator__kernel': 'rbf',\n",
       " 'estimator__kernel_params': None,\n",
       " 'estimator': KernelRidge(alpha=0.04832930238571752, gamma=6.1584821106602545, kernel='rbf'),\n",
       " 'iid': 'deprecated',\n",
       " 'n_jobs': 4,\n",
       " 'param_grid': {'alpha': array([1.00000000e-05, 3.35981829e-05, 1.12883789e-04, 3.79269019e-04,\n",
       "         1.27427499e-03, 4.28133240e-03, 1.43844989e-02, 4.83293024e-02,\n",
       "         1.62377674e-01, 5.45559478e-01, 1.83298071e+00, 6.15848211e+00,\n",
       "         2.06913808e+01, 6.95192796e+01, 2.33572147e+02, 7.84759970e+02,\n",
       "         2.63665090e+03, 8.85866790e+03, 2.97635144e+04, 1.00000000e+05]),\n",
       "  'gamma': array([1.00000000e-05, 3.35981829e-05, 1.12883789e-04, 3.79269019e-04,\n",
       "         1.27427499e-03, 4.28133240e-03, 1.43844989e-02, 4.83293024e-02,\n",
       "         1.62377674e-01, 5.45559478e-01, 1.83298071e+00, 6.15848211e+00,\n",
       "         2.06913808e+01, 6.95192796e+01, 2.33572147e+02, 7.84759970e+02,\n",
       "         2.63665090e+03, 8.85866790e+03, 2.97635144e+04, 1.00000000e+05])},\n",
       " 'pre_dispatch': '2*n_jobs',\n",
       " 'refit': True,\n",
       " 'return_train_score': False,\n",
       " 'scoring': None,\n",
       " 'verbose': 1}"
      ]
     },
     "execution_count": 41,
     "metadata": {},
     "output_type": "execute_result"
    }
   ],
   "source": [
    "gp.get_params()"
   ]
  },
  {
   "cell_type": "code",
   "execution_count": 54,
   "metadata": {},
   "outputs": [
    {
     "data": {
      "image/png": "[encoded data removed]",
      "text/plain": [
       "<Figure size 864x432 with 1 Axes>"
      ]
     },
     "metadata": {
      "needs_background": "light"
     },
     "output_type": "display_data"
    }
   ],
   "source": [
    "fig = plt.figure(figsize = (12, 6))\n",
    "\n",
    "plt.title(\"Coulomb matrix fingerprint and Ridge regression\")\n",
    "plt.scatter(y_train, gp.predict(X_train), label = 'Train RMSE = {:.2f}'.format(rmse(y_train,train_prediction)))\n",
    "plt.scatter(y_test, gp.predict(X_test), label = 'Test RMSE = {:.2f}'.format(rmse(y_test,test_prediction)))\n",
    "plt.plot(y_test, y_test, linestyle = \"--\", color = \"k\")\n",
    "plt.xlabel(\"$E_{true}$\")\n",
    "plt.ylabel(\"$E_{pred}$\")\n",
    "plt.legend()\n",
    "plt.show()"
   ]
  },
  {
   "cell_type": "markdown",
   "metadata": {},
   "source": [
    "# Prepare submission to Kaggle"
   ]
  },
  {
   "cell_type": "code",
   "execution_count": 49,
   "metadata": {},
   "outputs": [
    {
     "name": "stdout",
     "output_type": "stream",
     "text": [
      "0\n",
      "1559\n"
     ]
    }
   ],
   "source": [
    "cmats_test = np.zeros((len(test),max_number_of_atoms))\n",
    "for i,atoms in enumerate(test.atoms):\n",
    "    if i%1000 == 0:\n",
    "        print(i)\n",
    "    cmat = coulomb_matrix(atoms,max_number_of_atoms)\n",
    "    cmats_test[i,:] = cmat.flatten()\n",
    "print(len(cmats))"
   ]
  },
  {
   "cell_type": "code",
   "execution_count": 50,
   "metadata": {},
   "outputs": [
    {
     "data": {
      "text/html": [
       "<div>\n",
       "<style scoped>\n",
       "    .dataframe tbody tr th:only-of-type {\n",
       "        vertical-align: middle;\n",
       "    }\n",
       "\n",
       "    .dataframe tbody tr th {\n",
       "        vertical-align: top;\n",
       "    }\n",
       "\n",
       "    .dataframe thead th {\n",
       "        text-align: right;\n",
       "    }\n",
       "</style>\n",
       "<table border=\"1\" class=\"dataframe\">\n",
       "  <thead>\n",
       "    <tr style=\"text-align: right;\">\n",
       "      <th></th>\n",
       "      <th>0</th>\n",
       "      <th>1</th>\n",
       "      <th>2</th>\n",
       "      <th>3</th>\n",
       "      <th>4</th>\n",
       "      <th>5</th>\n",
       "      <th>6</th>\n",
       "      <th>7</th>\n",
       "      <th>8</th>\n",
       "      <th>9</th>\n",
       "      <th>10</th>\n",
       "      <th>11</th>\n",
       "    </tr>\n",
       "  </thead>\n",
       "  <tbody>\n",
       "    <tr>\n",
       "      <th>0</th>\n",
       "      <td>-0.218437</td>\n",
       "      <td>0.083888</td>\n",
       "      <td>-0.452135</td>\n",
       "      <td>-0.270193</td>\n",
       "      <td>-0.347681</td>\n",
       "      <td>-0.340167</td>\n",
       "      <td>-0.222048</td>\n",
       "      <td>-0.219194</td>\n",
       "      <td>-0.129151</td>\n",
       "      <td>-0.115997</td>\n",
       "      <td>-0.075245</td>\n",
       "      <td>-0.072679</td>\n",
       "    </tr>\n",
       "    <tr>\n",
       "      <th>1</th>\n",
       "      <td>-0.990869</td>\n",
       "      <td>-0.786313</td>\n",
       "      <td>-0.767274</td>\n",
       "      <td>-0.562259</td>\n",
       "      <td>-0.347681</td>\n",
       "      <td>-0.340167</td>\n",
       "      <td>-0.222048</td>\n",
       "      <td>-0.219194</td>\n",
       "      <td>-0.129151</td>\n",
       "      <td>-0.115997</td>\n",
       "      <td>-0.075245</td>\n",
       "      <td>-0.072679</td>\n",
       "    </tr>\n",
       "    <tr>\n",
       "      <th>2</th>\n",
       "      <td>-0.676532</td>\n",
       "      <td>-0.474723</td>\n",
       "      <td>0.277707</td>\n",
       "      <td>-0.565685</td>\n",
       "      <td>-0.327235</td>\n",
       "      <td>-0.340167</td>\n",
       "      <td>-0.222048</td>\n",
       "      <td>-0.219194</td>\n",
       "      <td>-0.129151</td>\n",
       "      <td>-0.115997</td>\n",
       "      <td>-0.075245</td>\n",
       "      <td>-0.072679</td>\n",
       "    </tr>\n",
       "    <tr>\n",
       "      <th>3</th>\n",
       "      <td>-1.116016</td>\n",
       "      <td>-0.912795</td>\n",
       "      <td>-0.762890</td>\n",
       "      <td>-0.557731</td>\n",
       "      <td>-0.303456</td>\n",
       "      <td>-0.303240</td>\n",
       "      <td>-0.222048</td>\n",
       "      <td>-0.219194</td>\n",
       "      <td>-0.129151</td>\n",
       "      <td>-0.115997</td>\n",
       "      <td>-0.075245</td>\n",
       "      <td>-0.072679</td>\n",
       "    </tr>\n",
       "    <tr>\n",
       "      <th>4</th>\n",
       "      <td>1.672852</td>\n",
       "      <td>-0.293881</td>\n",
       "      <td>-0.009796</td>\n",
       "      <td>-0.583863</td>\n",
       "      <td>-0.347681</td>\n",
       "      <td>-0.340167</td>\n",
       "      <td>-0.222048</td>\n",
       "      <td>-0.219194</td>\n",
       "      <td>-0.129151</td>\n",
       "      <td>-0.115997</td>\n",
       "      <td>-0.075245</td>\n",
       "      <td>-0.072679</td>\n",
       "    </tr>\n",
       "  </tbody>\n",
       "</table>\n",
       "</div>"
      ],
      "text/plain": [
       "         0         1         2         3         4         5         6   \\\n",
       "0 -0.218437  0.083888 -0.452135 -0.270193 -0.347681 -0.340167 -0.222048   \n",
       "1 -0.990869 -0.786313 -0.767274 -0.562259 -0.347681 -0.340167 -0.222048   \n",
       "2 -0.676532 -0.474723  0.277707 -0.565685 -0.327235 -0.340167 -0.222048   \n",
       "3 -1.116016 -0.912795 -0.762890 -0.557731 -0.303456 -0.303240 -0.222048   \n",
       "4  1.672852 -0.293881 -0.009796 -0.583863 -0.347681 -0.340167 -0.222048   \n",
       "\n",
       "         7         8         9         10        11  \n",
       "0 -0.219194 -0.129151 -0.115997 -0.075245 -0.072679  \n",
       "1 -0.219194 -0.129151 -0.115997 -0.075245 -0.072679  \n",
       "2 -0.219194 -0.129151 -0.115997 -0.075245 -0.072679  \n",
       "3 -0.219194 -0.129151 -0.115997 -0.075245 -0.072679  \n",
       "4 -0.219194 -0.129151 -0.115997 -0.075245 -0.072679  "
      ]
     },
     "execution_count": 50,
     "metadata": {},
     "output_type": "execute_result"
    }
   ],
   "source": [
    "X_test_kaggle = pd.DataFrame(data = cmats_test, index=test.index)\n",
    "X_test_kaggle.loc[:,:] = scaler.transform(X_test_kaggle)\n",
    "X_test_kaggle.head()"
   ]
  },
  {
   "cell_type": "code",
   "execution_count": 51,
   "metadata": {},
   "outputs": [
    {
     "name": "stdout",
     "output_type": "stream",
     "text": [
      "264\n"
     ]
    }
   ],
   "source": [
    "print(len(X_test_kaggle))"
   ]
  },
  {
   "cell_type": "code",
   "execution_count": 54,
   "metadata": {},
   "outputs": [
    {
     "data": {
      "text/html": [
       "<div>\n",
       "<style scoped>\n",
       "    .dataframe tbody tr th:only-of-type {\n",
       "        vertical-align: middle;\n",
       "    }\n",
       "\n",
       "    .dataframe tbody tr th {\n",
       "        vertical-align: top;\n",
       "    }\n",
       "\n",
       "    .dataframe thead th {\n",
       "        text-align: right;\n",
       "    }\n",
       "</style>\n",
       "<table border=\"1\" class=\"dataframe\">\n",
       "  <thead>\n",
       "    <tr style=\"text-align: right;\">\n",
       "      <th></th>\n",
       "      <th>ID</th>\n",
       "      <th>Voigt_modulus</th>\n",
       "    </tr>\n",
       "  </thead>\n",
       "  <tbody>\n",
       "    <tr>\n",
       "      <th>0</th>\n",
       "      <td>0</td>\n",
       "      <td>28.076112</td>\n",
       "    </tr>\n",
       "    <tr>\n",
       "      <th>1</th>\n",
       "      <td>1</td>\n",
       "      <td>65.482095</td>\n",
       "    </tr>\n",
       "    <tr>\n",
       "      <th>2</th>\n",
       "      <td>2</td>\n",
       "      <td>104.471052</td>\n",
       "    </tr>\n",
       "    <tr>\n",
       "      <th>3</th>\n",
       "      <td>3</td>\n",
       "      <td>102.895579</td>\n",
       "    </tr>\n",
       "    <tr>\n",
       "      <th>4</th>\n",
       "      <td>4</td>\n",
       "      <td>40.871913</td>\n",
       "    </tr>\n",
       "  </tbody>\n",
       "</table>\n",
       "</div>"
      ],
      "text/plain": [
       "  ID  Voigt_modulus\n",
       "0  0      28.076112\n",
       "1  1      65.482095\n",
       "2  2     104.471052\n",
       "3  3     102.895579\n",
       "4  4      40.871913"
      ]
     },
     "execution_count": 54,
     "metadata": {},
     "output_type": "execute_result"
    }
   ],
   "source": [
    "test_prediction_dataframe = pd.DataFrame(data = {'ID':test.index,\n",
    "                                                 'Voigt_modulus':gp.predict(X_test_kaggle)})\n",
    "test_prediction_dataframe.head()"
   ]
  },
  {
   "cell_type": "code",
   "execution_count": 47,
   "metadata": {},
   "outputs": [],
   "source": [
    "test_prediction_dataframe.to_csv(data_dir+'submission_test.csv',index=False)"
   ]
  },
  {
   "cell_type": "code",
   "execution_count": null,
   "metadata": {},
   "outputs": [],
   "source": []
  },
  {
   "cell_type": "code",
   "execution_count": null,
   "metadata": {},
   "outputs": [],
   "source": []
  }
 ],
 "metadata": {
  "kernelspec": {
   "display_name": "Python 3",
   "language": "python",
   "name": "python3"
  },
  "language_info": {
   "codemirror_mode": {
    "name": "ipython",
    "version": 3
   },
   "file_extension": ".py",
   "mimetype": "text/x-python",
   "name": "python",
   "nbconvert_exporter": "python",
   "pygments_lexer": "ipython3",
   "version": "3.8.5"
  }
 },
 "nbformat": 4,
 "nbformat_minor": 4
}
