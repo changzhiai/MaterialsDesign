{
 "cells": [
  {
   "cell_type": "markdown",
   "metadata": {},
   "source": [
    "### Imports "
   ]
  },
  {
   "cell_type": "code",
   "execution_count": 1,
   "metadata": {},
   "outputs": [],
   "source": [
    "import numpy as np\n",
    "import pandas as pd\n",
    "import json\n",
    "#from dscribe.descriptors import CoulombMatrix\n",
    "from ase import Atoms\n",
    "import matplotlib.pyplot as plt\n",
    "import matplotlib\n",
    "font = {'size'   : 22}\n",
    "\n",
    "matplotlib.rc('font', **font)\n",
    "\n"
   ]
  },
  {
   "cell_type": "code",
   "execution_count": 2,
   "metadata": {},
   "outputs": [],
   "source": [
    "def pad_with(vector, pad_width, iaxis, kwargs):\n",
    "     pad_value = kwargs.get('padder', 10)\n",
    "     vector[:pad_width[0]] = pad_value\n",
    "     vector[-pad_width[1]:] = pad_value\n",
    "\n",
    "\n",
    "def coulomb_matrix(atoms, n_atoms_max):\n",
    "    # Creating a matrix with the product of the atomic numbers such that M_ij = Z[i]*Z[j]\n",
    "    atomic_numbers = np.outer(atoms.get_atomic_numbers(),atoms.get_atomic_numbers())\n",
    "    # Getting the distance matrix of the atoms object, such that element D_ij = |r_i - r_j|\n",
    "    distances = atoms.get_all_distances()\n",
    "    # Setting the diagonal elements, which are all zero, to 1 to avoid overflow errors\n",
    "    np.fill_diagonal(distances, 1)\n",
    "    \n",
    "    # Creating the Cmat\n",
    "    cmat = np.multiply(atomic_numbers, 1/distances) # Element wise multiplication\n",
    "    np.fill_diagonal(cmat, 0.5*np.array(atoms.get_atomic_numbers())**2.4) # Filling the diagonal as described in the slides\n",
    "    \n",
    "    # Taking the sorted eigenvalues and padding with zeros such that all of the fingerprints have the same size\n",
    "    shape = cmat.shape\n",
    "    cmat,_ = np.linalg.eig(cmat)\n",
    "    cmat = np.flip(np.sort(cmat))\n",
    "    holder = np.zeros(n_atoms_max)\n",
    "    holder[:shape[0]] = cmat\n",
    "    cmat = holder\n",
    "    \n",
    "    return cmat\n",
    "\n"
   ]
  },
  {
   "cell_type": "markdown",
   "metadata": {},
   "source": [
    "## Loading data and setting up the data frames"
   ]
  },
  {
   "cell_type": "code",
   "execution_count": 3,
   "metadata": {},
   "outputs": [],
   "source": [
    "data_dir = \"\" # Specify your data path (Folder in which the files are placed)"
   ]
  },
  {
   "cell_type": "code",
   "execution_count": 4,
   "metadata": {},
   "outputs": [],
   "source": [
    "# Loading the data as pandas DataFrame\n",
    "train = pd.DataFrame(json.load(open(data_dir + \"train.json\", \"rb\")))\n",
    "test = pd.DataFrame(json.load(open(data_dir + \"test.json\", \"rb\")))\n",
    "## Transform atoms entry to ASE atoms object\n",
    "train.atoms = train.atoms.apply(lambda x: Atoms(**x)) # OBS This one is important!\n",
    "test.atoms = test.atoms.apply(lambda x: Atoms(**x))"
   ]
  },
  {
   "cell_type": "code",
   "execution_count": 5,
   "metadata": {},
   "outputs": [
    {
     "name": "stdout",
     "output_type": "stream",
     "text": [
      "Train data shape: (2028, 5)\n"
     ]
    },
    {
     "data": {
      "text/html": [
       "<div>\n",
       "<style scoped>\n",
       "    .dataframe tbody tr th:only-of-type {\n",
       "        vertical-align: middle;\n",
       "    }\n",
       "\n",
       "    .dataframe tbody tr th {\n",
       "        vertical-align: top;\n",
       "    }\n",
       "\n",
       "    .dataframe thead th {\n",
       "        text-align: right;\n",
       "    }\n",
       "</style>\n",
       "<table border=\"1\" class=\"dataframe\">\n",
       "  <thead>\n",
       "    <tr style=\"text-align: right;\">\n",
       "      <th></th>\n",
       "      <th>formula</th>\n",
       "      <th>etot</th>\n",
       "      <th>dynamic_stability_level</th>\n",
       "      <th>atoms</th>\n",
       "      <th>Voigt_modulus</th>\n",
       "    </tr>\n",
       "  </thead>\n",
       "  <tbody>\n",
       "    <tr>\n",
       "      <th>0</th>\n",
       "      <td>W2S2</td>\n",
       "      <td>-31.329664</td>\n",
       "      <td>1</td>\n",
       "      <td>(Atom('W', [1.52711328, 0.8816792633, 9.115147...</td>\n",
       "      <td>80.175958</td>\n",
       "    </tr>\n",
       "    <tr>\n",
       "      <th>1</th>\n",
       "      <td>NiI2</td>\n",
       "      <td>-9.774512</td>\n",
       "      <td>2</td>\n",
       "      <td>(Atom('Ni', [-7.814021732e-19, -1.673235808e-1...</td>\n",
       "      <td>31.358817</td>\n",
       "    </tr>\n",
       "    <tr>\n",
       "      <th>2</th>\n",
       "      <td>Ti3F2N2</td>\n",
       "      <td>-55.546656</td>\n",
       "      <td>1</td>\n",
       "      <td>(Atom('Ti', [0.0, 0.0, 11.208358341], index=0)...</td>\n",
       "      <td>155.068663</td>\n",
       "    </tr>\n",
       "    <tr>\n",
       "      <th>3</th>\n",
       "      <td>Hf4N3O2</td>\n",
       "      <td>-85.216280</td>\n",
       "      <td>3</td>\n",
       "      <td>(Atom('Hf', [0.0, 1.8605461437, 11.1322923235]...</td>\n",
       "      <td>279.073400</td>\n",
       "    </tr>\n",
       "    <tr>\n",
       "      <th>4</th>\n",
       "      <td>NbSTe</td>\n",
       "      <td>-19.876790</td>\n",
       "      <td>1</td>\n",
       "      <td>(Atom('Nb', [1.26844161e-17, -3.001405002e-18,...</td>\n",
       "      <td>55.639070</td>\n",
       "    </tr>\n",
       "  </tbody>\n",
       "</table>\n",
       "</div>"
      ],
      "text/plain": [
       "   formula       etot  dynamic_stability_level  \\\n",
       "0     W2S2 -31.329664                        1   \n",
       "1     NiI2  -9.774512                        2   \n",
       "2  Ti3F2N2 -55.546656                        1   \n",
       "3  Hf4N3O2 -85.216280                        3   \n",
       "4    NbSTe -19.876790                        1   \n",
       "\n",
       "                                               atoms  Voigt_modulus  \n",
       "0  (Atom('W', [1.52711328, 0.8816792633, 9.115147...      80.175958  \n",
       "1  (Atom('Ni', [-7.814021732e-19, -1.673235808e-1...      31.358817  \n",
       "2  (Atom('Ti', [0.0, 0.0, 11.208358341], index=0)...     155.068663  \n",
       "3  (Atom('Hf', [0.0, 1.8605461437, 11.1322923235]...     279.073400  \n",
       "4  (Atom('Nb', [1.26844161e-17, -3.001405002e-18,...      55.639070  "
      ]
     },
     "execution_count": 5,
     "metadata": {},
     "output_type": "execute_result"
    }
   ],
   "source": [
    "print('Train data shape: {}'.format(train.shape))\n",
    "train.head()"
   ]
  },
  {
   "cell_type": "code",
   "execution_count": 6,
   "metadata": {},
   "outputs": [
    {
     "data": {
      "text/plain": [
       "Atoms(symbols='NiI2', pbc=[True, True, False], cell=[[3.8508521418, -5.484107923e-19, 0.0], [-1.9254260709, 3.3349357811, 0.0], [1.332689519e-18, 0.0, 18.3890325946]])"
      ]
     },
     "execution_count": 6,
     "metadata": {},
     "output_type": "execute_result"
    }
   ],
   "source": [
    "train.atoms[1]"
   ]
  },
  {
   "cell_type": "code",
   "execution_count": 7,
   "metadata": {},
   "outputs": [
    {
     "name": "stdout",
     "output_type": "stream",
     "text": [
      "Test data shape: (264, 3)\n"
     ]
    },
    {
     "data": {
      "text/html": [
       "<div>\n",
       "<style scoped>\n",
       "    .dataframe tbody tr th:only-of-type {\n",
       "        vertical-align: middle;\n",
       "    }\n",
       "\n",
       "    .dataframe tbody tr th {\n",
       "        vertical-align: top;\n",
       "    }\n",
       "\n",
       "    .dataframe thead th {\n",
       "        text-align: right;\n",
       "    }\n",
       "</style>\n",
       "<table border=\"1\" class=\"dataframe\">\n",
       "  <thead>\n",
       "    <tr style=\"text-align: right;\">\n",
       "      <th></th>\n",
       "      <th>formula</th>\n",
       "      <th>etot</th>\n",
       "      <th>atoms</th>\n",
       "    </tr>\n",
       "  </thead>\n",
       "  <tbody>\n",
       "    <tr>\n",
       "      <th>0</th>\n",
       "      <td>Ti2Te2</td>\n",
       "      <td>-21.567884</td>\n",
       "      <td>(Atom('Te', [0.0001635792, 0.0005756553, 7.369...</td>\n",
       "    </tr>\n",
       "    <tr>\n",
       "      <th>1</th>\n",
       "      <td>Cu2O2</td>\n",
       "      <td>-19.429111</td>\n",
       "      <td>(Atom('Cu', [-3.606786318e-18, -0.0002926462, ...</td>\n",
       "    </tr>\n",
       "    <tr>\n",
       "      <th>2</th>\n",
       "      <td>Y3C2</td>\n",
       "      <td>-33.214554</td>\n",
       "      <td>(Atom('Y', [3.531761251e-18, -5.785592543e-18,...</td>\n",
       "    </tr>\n",
       "    <tr>\n",
       "      <th>3</th>\n",
       "      <td>Ti2O4</td>\n",
       "      <td>-51.580206</td>\n",
       "      <td>(Atom('Ti', [1.135647763e-19, 0.0301387729, 8....</td>\n",
       "    </tr>\n",
       "    <tr>\n",
       "      <th>4</th>\n",
       "      <td>BiMoAs</td>\n",
       "      <td>-19.967820</td>\n",
       "      <td>(Atom('Mo', [6.983934515e-18, 2.357780987e-16,...</td>\n",
       "    </tr>\n",
       "  </tbody>\n",
       "</table>\n",
       "</div>"
      ],
      "text/plain": [
       "  formula       etot                                              atoms\n",
       "0  Ti2Te2 -21.567884  (Atom('Te', [0.0001635792, 0.0005756553, 7.369...\n",
       "1   Cu2O2 -19.429111  (Atom('Cu', [-3.606786318e-18, -0.0002926462, ...\n",
       "2    Y3C2 -33.214554  (Atom('Y', [3.531761251e-18, -5.785592543e-18,...\n",
       "3   Ti2O4 -51.580206  (Atom('Ti', [1.135647763e-19, 0.0301387729, 8....\n",
       "4  BiMoAs -19.967820  (Atom('Mo', [6.983934515e-18, 2.357780987e-16,..."
      ]
     },
     "execution_count": 7,
     "metadata": {},
     "output_type": "execute_result"
    }
   ],
   "source": [
    "print('Test data shape: {}'.format(test.shape))\n",
    "test.head()"
   ]
  },
  {
   "cell_type": "code",
   "execution_count": 8,
   "metadata": {},
   "outputs": [
    {
     "data": {
      "text/plain": [
       "Atoms(symbols='CuOCuO', pbc=[True, True, False], cell=[[2.8049685284, 1.734570062e-17, 0.0], [-3.746612841e-17, 5.602487274, 0.0], [-7.217855535e-18, 0.0, 16.9711719]])"
      ]
     },
     "execution_count": 8,
     "metadata": {},
     "output_type": "execute_result"
    }
   ],
   "source": [
    "test.atoms[1]"
   ]
  },
  {
   "cell_type": "code",
   "execution_count": 9,
   "metadata": {},
   "outputs": [
    {
     "data": {
      "text/plain": [
       "(array([1, 2, 3], dtype=int64), array([ 469,  538, 1021], dtype=int64))"
      ]
     },
     "execution_count": 9,
     "metadata": {},
     "output_type": "execute_result"
    }
   ],
   "source": [
    "np.unique(train.dynamic_stability_level,return_counts=True)"
   ]
  },
  {
   "cell_type": "code",
   "execution_count": null,
   "metadata": {},
   "outputs": [],
   "source": []
  },
  {
   "cell_type": "markdown",
   "metadata": {},
   "source": [
    "## Creating the Coulomb matrix fingerprint\n",
    "#### First a preprocessing step"
   ]
  },
  {
   "cell_type": "code",
   "execution_count": 10,
   "metadata": {},
   "outputs": [
    {
     "name": "stdout",
     "output_type": "stream",
     "text": [
      "12\n"
     ]
    },
    {
     "name": "stderr",
     "output_type": "stream",
     "text": [
      "C:\\software\\anoconda\\lib\\site-packages\\ase\\atoms.py:971: VisibleDeprecationWarning: Use get_global_number_of_atoms() instead\n",
      "  warnings.warn('Use get_global_number_of_atoms() instead',\n"
     ]
    }
   ],
   "source": [
    "species = []\n",
    "number_of_atoms = []\n",
    "atomic_numbers = []\n",
    "for atom in pd.concat([train.atoms,test.atoms]):\n",
    "    species = list(set(species+atom.get_chemical_symbols()))\n",
    "    atomic_numbers = list(set(atomic_numbers+list(atom.get_atomic_numbers())))\n",
    "    number_of_atoms.append(atom.get_number_of_atoms())\n",
    "\n",
    "max_number_of_atoms = np.max(number_of_atoms)\n",
    "min_atomic_number = np.min(atomic_numbers)\n",
    "max_atomic_number = np.max(atomic_numbers)\n",
    "\n",
    "print(max_number_of_atoms)"
   ]
  },
  {
   "cell_type": "markdown",
   "metadata": {},
   "source": [
    "#### Coulomb matrix"
   ]
  },
  {
   "cell_type": "code",
   "execution_count": 11,
   "metadata": {},
   "outputs": [
    {
     "name": "stdout",
     "output_type": "stream",
     "text": [
      "0\n",
      "1000\n",
      "2000\n",
      "2028\n"
     ]
    }
   ],
   "source": [
    "cmats = np.zeros((len(train),max_number_of_atoms))\n",
    "for i,atoms in enumerate(train.atoms):\n",
    "    if i%1000 == 0:\n",
    "        print(i)\n",
    "    cmat = coulomb_matrix(atoms,max_number_of_atoms)\n",
    "    cmats[i,:] = cmat.flatten()\n",
    "print(len(cmats))"
   ]
  },
  {
   "cell_type": "code",
   "execution_count": 12,
   "metadata": {},
   "outputs": [
    {
     "data": {
      "text/plain": [
       "(12,)"
      ]
     },
     "execution_count": 12,
     "metadata": {},
     "output_type": "execute_result"
    }
   ],
   "source": [
    "cmat.shape"
   ]
  },
  {
   "cell_type": "code",
   "execution_count": 13,
   "metadata": {},
   "outputs": [
    {
     "name": "stdout",
     "output_type": "stream",
     "text": [
      "2028 (2028, 12)\n"
     ]
    }
   ],
   "source": [
    "print(len(cmats), cmats.shape)"
   ]
  },
  {
   "cell_type": "markdown",
   "metadata": {},
   "source": [
    "# Setting target and feature vector"
   ]
  },
  {
   "cell_type": "code",
   "execution_count": 14,
   "metadata": {},
   "outputs": [
    {
     "name": "stdout",
     "output_type": "stream",
     "text": [
      "X: (2028, 12)\n",
      "y: (2028,)\n"
     ]
    }
   ],
   "source": [
    "X = pd.DataFrame(data = cmats, index=train.index)\n",
    "y = train['Voigt_modulus']\n",
    "print('X: {}'.format(X.shape))\n",
    "print('y: {}'.format(y.shape))"
   ]
  },
  {
   "cell_type": "markdown",
   "metadata": {},
   "source": [
    "## Splitting into test and train set"
   ]
  },
  {
   "cell_type": "code",
   "execution_count": 15,
   "metadata": {},
   "outputs": [
    {
     "data": {
      "image/png": "[encoded data removed]",
      "text/plain": [
       "<Figure size 864x432 with 1 Axes>"
      ]
     },
     "metadata": {
      "needs_background": "light"
     },
     "output_type": "display_data"
    }
   ],
   "source": [
    "from sklearn.model_selection import train_test_split\n",
    "\n",
    "X_train,X_test,y_train,y_test = train_test_split(X,y,test_size=0.2,random_state=250)\n",
    "\n",
    "plt.figure(figsize = (12, 6))\n",
    "plt.hist(y_train, bins=30, alpha=0.7, density=True, label='Train set')\n",
    "plt.hist(y_test, bins=30, alpha=0.7, density=True, label='Test set')\n",
    "\n",
    "plt.title(\"Normalized histogram of test and train sets\")\n",
    "plt.xlabel(\"Voigt modulus, GPa\")\n",
    "plt.legend()\n",
    "plt.show()\n"
   ]
  },
  {
   "cell_type": "code",
   "execution_count": 16,
   "metadata": {},
   "outputs": [
    {
     "name": "stdout",
     "output_type": "stream",
     "text": [
      "X_train: (1622, 12)\n",
      "y_train: (1622,)\n",
      "X_test: (406, 12)\n",
      "y_test: (406,)\n"
     ]
    }
   ],
   "source": [
    "print('X_train: {}'.format(X_train.shape))\n",
    "print('y_train: {}'.format(y_train.shape))\n",
    "print('X_test: {}'.format(X_test.shape))\n",
    "print('y_test: {}'.format(y_test.shape))"
   ]
  },
  {
   "cell_type": "markdown",
   "metadata": {},
   "source": [
    "# Guassian process"
   ]
  },
  {
   "cell_type": "code",
   "execution_count": 17,
   "metadata": {},
   "outputs": [],
   "source": [
    "# from sklearn.linear_model import LinearRegression\n",
    "from sklearn.metrics import mean_squared_error as mse\n",
    "# from sklearn.preprocessing import StandardScaler\n",
    "\n",
    "def rmse(y_true, y_pred):\n",
    "    return np.sqrt(mse(y_true, y_pred))"
   ]
  },
  {
   "cell_type": "code",
   "execution_count": 18,
   "metadata": {},
   "outputs": [],
   "source": [
    "# scaler = StandardScaler().fit(X_train)\n",
    "# X_train = scaler.transform(X_train)\n",
    "# X_test = scaler.transform(X_test)"
   ]
  },
  {
   "cell_type": "code",
   "execution_count": 19,
   "metadata": {},
   "outputs": [],
   "source": [
    "# from sklearn.gaussian_process import GaussianProcessRegressor\n",
    "# from sklearn.gaussian_process.kernels import RBF, ConstantKernel as C\n",
    "\n",
    "# # Instantiate a Gaussian Process model\n",
    "# kernel = C(1.0, (1e-3, 1e3)) * RBF(10, (1e-2, 1e2))\n",
    "# gp = GaussianProcessRegressor(kernel=kernel, n_restarts_optimizer=9)\n",
    "\n",
    "# # Fit to data using Maximum Likelihood Estimation of the parameters\n",
    "# gp.fit(X, y)\n",
    "\n",
    "# # Make the prediction on the meshed x-axis (ask for MSE as well)"
   ]
  },
  {
   "cell_type": "code",
   "execution_count": 20,
   "metadata": {},
   "outputs": [],
   "source": [
    "# X_train,X_test,y_train,y_test"
   ]
  },
  {
   "cell_type": "code",
   "execution_count": 21,
   "metadata": {},
   "outputs": [],
   "source": [
    "# from sklearn.gaussian_process import GaussianProcessRegressor\n",
    "# from sklearn.gaussian_process.kernels import DotProduct, WhiteKernel\n",
    "\n",
    "# kernel = DotProduct() + WhiteKernel()\n",
    "# gp = GaussianProcessRegressor(kernel=kernel, random_state=0)\n",
    "\n",
    "# gp.fit(X_train, y_train)"
   ]
  },
  {
   "cell_type": "code",
   "execution_count": 50,
   "metadata": {},
   "outputs": [],
   "source": [
    "from sklearn.preprocessing import StandardScaler\n",
    "scaler = StandardScaler().fit(X_train)\n",
    "X_train = scaler.transform(X_train)\n",
    "X_test = scaler.transform(X_test)\n"
   ]
  },
  {
   "cell_type": "code",
   "execution_count": 56,
   "metadata": {},
   "outputs": [
    {
     "name": "stdout",
     "output_type": "stream",
     "text": [
      "[[ 1.60831357  2.15210537 -0.61808679 -0.41384385 -0.0749233  -0.07817717\n",
      "  -0.22265754 -0.21964875 -0.11976949 -0.10808946 -0.07291646 -0.07045765]]\n",
      "[[ 1.95872533  2.38931765  1.9036658   2.54119747 -0.30246529 -0.3101532\n",
      "  -0.22265754 -0.21964875 -0.11976949 -0.10808946 -0.07291646 -0.07045765]]\n",
      "951    14.833194\n",
      "Name: Voigt_modulus, dtype: float64\n",
      "783    50.002928\n",
      "Name: Voigt_modulus, dtype: float64\n"
     ]
    }
   ],
   "source": [
    "print(X_train[:1])\n",
    "print(X_test[:1])\n",
    "print(y_train[:1])\n",
    "print(y_test[:1])\n"
   ]
  },
  {
   "cell_type": "code",
   "execution_count": 24,
   "metadata": {},
   "outputs": [],
   "source": [
    "xp = X_train\n",
    "tp = y_train\n",
    "grid = X_test"
   ]
  },
  {
   "cell_type": "code",
   "execution_count": 27,
   "metadata": {},
   "outputs": [],
   "source": [
    "class GP:\n",
    "    \"Class used for training and predicting using Gaussian process\"\n",
    "    def __init__ (self, l, k0, sigma): \n",
    "        self.l = l\n",
    "        self.k0 = k0\n",
    "        self.sigma = sigma\n",
    "    def kernel(self, x, xx):\n",
    "        \"Calculates kernel\"\n",
    "        return self.k0*np.exp(-(np.sum((x-xx)**2))/(2*self.l**2))\n",
    "\n",
    "    def kvec(self, x):\n",
    "        \"calculates k-vector, x  is grid values\"\n",
    "        kvec = np.array([self.kernel(x,xx) for xx in xp])\n",
    "        return kvec\n",
    "    \n",
    "    def calc_K(self, xp):\n",
    "        \"Calculates K matrix. xp is samples x-values\"\n",
    "        K =  np.array([[self.kernel(x,xx) for x in xp] for xx in xp])\n",
    "        return K\n",
    "    \n",
    "    def calc_C(self, xp):\n",
    "        \"Calculates C matrix. xp is sample x-values\"\n",
    "        K = self.calc_K(xp)\n",
    "        C = K + self.sigma**2*np.identity(len(xp))\n",
    "        return C\n",
    "    \n",
    "    def fitf(self, x, Cinvt):\n",
    "        \"returns k-vector dotted with C_inv dot sample-y\"\n",
    "        return np.dot(self.kvec(x), Cinvt)\n",
    "    \n",
    "    def varx(self, x, Cinv):\n",
    "        \"Calculates the variance. Used as descriptor for errousness\"\n",
    "        return self.kernel(x,x)-np.dot(self.kvec(x), np.dot(Cinv, self.kvec(x)))\n",
    "    \n",
    "    def train(self, xp):\n",
    "        \"xp is x-values of samples, tp is y-values of samples. Returns C invers and C invers dotted with t\"\n",
    "        C = self.calc_C(xp)\n",
    "        return C\n",
    "   \n",
    "    def predict(self, xp, tp, grid):\n",
    "        \"xp is x-values of sample points, tp is y-values of sample points, grid is the grid to be fitted to\"\n",
    "        C = self.train(xp)\n",
    "        Cinv = np.linalg.inv(C)\n",
    "        Cinvt = np.dot(Cinv, tp)\n",
    "        fit_array = np.array([self.fitf(x, Cinvt) for x in grid])\n",
    "#         var_array = np.array([self.varx(x, Cinv) for x in X_test])\n",
    "        return fit_array"
   ]
  },
  {
   "cell_type": "code",
   "execution_count": 30,
   "metadata": {},
   "outputs": [
    {
     "name": "stdout",
     "output_type": "stream",
     "text": [
      "Train RMSE = 4.754077517309\n",
      "Test RMSE = 51.805103635604\n",
      "Train RMSE = 15.200666576679\n",
      "Test RMSE = 40.437164628906\n",
      "Train RMSE = 18.735639215365\n",
      "Test RMSE = 36.554097876518\n",
      "Train RMSE = 25.384330481733\n",
      "Test RMSE = 31.326069947031\n",
      "Train RMSE = 27.793655686938\n",
      "Test RMSE = 32.213667215707\n"
     ]
    }
   ],
   "source": [
    "# for i in [0.1, 0.5, 1, 3, 5]:\n",
    "#     l = i\n",
    "#     k0 = 0.5\n",
    "#     sigma = 0.005\n",
    "#     model = GP(l,k0,sigma)\n",
    "#     train_prediction=model.predict(X_train, y_train, X_train)\n",
    "#     test_prediction=model.predict(X_train, y_train, X_test)\n",
    "#     print('Train RMSE = {:.12f}'.format(rmse(y_train,train_prediction)))\n",
    "#     print('Test RMSE = {:.12f}'.format(rmse(y_test,test_prediction)))"
   ]
  },
  {
   "cell_type": "code",
   "execution_count": 33,
   "metadata": {},
   "outputs": [
    {
     "name": "stdout",
     "output_type": "stream",
     "text": [
      "Train RMSE = 26.560352211787\n",
      "Test RMSE = 31.721231622907\n",
      "Train RMSE = 25.760763727745\n",
      "Test RMSE = 31.447398215450\n",
      "Train RMSE = 25.384330481733\n",
      "Test RMSE = 31.326069947031\n",
      "Train RMSE = 24.861073956460\n",
      "Test RMSE = 31.308245265268\n",
      "Train RMSE = 24.321167208783\n",
      "Test RMSE = 31.486070950573\n",
      "Train RMSE = 23.996796628457\n",
      "Test RMSE = 31.631660354431\n"
     ]
    }
   ],
   "source": [
    "# for j in [0.1, 0.3, 0.5, 1, 2, 3]:\n",
    "#     l = 3\n",
    "#     k0 = j\n",
    "#     sigma = 0.005\n",
    "#     model = GP(l,k0,sigma)\n",
    "#     train_prediction=model.predict(X_train, y_train, X_train)\n",
    "#     test_prediction=model.predict(X_train, y_train, X_test)\n",
    "#     print('Train RMSE = {:.12f}'.format(rmse(y_train,train_prediction)))\n",
    "#     print('Test RMSE = {:.12f}'.format(rmse(y_test,test_prediction)))"
   ]
  },
  {
   "cell_type": "code",
   "execution_count": 34,
   "metadata": {},
   "outputs": [
    {
     "name": "stdout",
     "output_type": "stream",
     "text": [
      "Train RMSE = 18.887067818185\n",
      "Test RMSE = 194.352258960298\n",
      "Train RMSE = 20.780708507447\n",
      "Test RMSE = 59.880325856653\n",
      "Train RMSE = 18.887067818185\n",
      "Test RMSE = 194.352258960298\n",
      "Train RMSE = 21.664368171634\n",
      "Test RMSE = 43.011451961172\n",
      "Train RMSE = 25.079996138075\n",
      "Test RMSE = 31.289167084544\n",
      "Train RMSE = 30.051606300029\n",
      "Test RMSE = 33.031116036446\n"
     ]
    }
   ],
   "source": [
    "# for k in [0.0001, 0.0005, 0.0001, 0.001, 0.01, 0.1]:\n",
    "#     l = 3\n",
    "#     k0 = 3\n",
    "#     sigma = k\n",
    "#     model = GP(l,k0,sigma)\n",
    "#     train_prediction=model.predict(X_train, y_train, X_train)\n",
    "#     test_prediction=model.predict(X_train, y_train, X_test)\n",
    "#     print('Train RMSE = {:.12f}'.format(rmse(y_train,train_prediction)))\n",
    "#     print('Test RMSE = {:.12f}'.format(rmse(y_test,test_prediction)))"
   ]
  },
  {
   "cell_type": "code",
   "execution_count": 39,
   "metadata": {},
   "outputs": [
    {
     "name": "stdout",
     "output_type": "stream",
     "text": [
      "i: 0.1 j: 0.1 k: 0.0001\n",
      "Train RMSE = 1.712417236043\n",
      "Test RMSE = 125.440532126645\n",
      "i: 0.1 j: 0.1 k: 0.0005\n",
      "Train RMSE = 2.876985780449\n",
      "Test RMSE = 99.083805127800\n",
      "i: 0.1 j: 0.1 k: 0.0001\n",
      "Train RMSE = 1.712417236043\n",
      "Test RMSE = 125.440532126645\n",
      "i: 0.1 j: 0.1 k: 0.001\n",
      "Train RMSE = 3.633621771613\n",
      "Test RMSE = 78.203036299703\n",
      "i: 0.1 j: 0.1 k: 0.01\n",
      "Train RMSE = 7.762124543958\n",
      "Test RMSE = 33.478020545342\n",
      "i: 0.1 j: 0.1 k: 0.1\n",
      "Train RMSE = 13.772687110438\n",
      "Test RMSE = 30.003044731978\n",
      "i: 0.1 j: 0.3 k: 0.0001\n",
      "Train RMSE = 1.403386947336\n",
      "Test RMSE = 146.238967201460\n",
      "i: 0.1 j: 0.3 k: 0.0005\n",
      "Train RMSE = 2.398081446381\n",
      "Test RMSE = 110.102518040669\n",
      "i: 0.1 j: 0.3 k: 0.0001\n",
      "Train RMSE = 1.403386947336\n",
      "Test RMSE = 146.238967201460\n",
      "i: 0.1 j: 0.3 k: 0.001\n",
      "Train RMSE = 3.018506703137\n",
      "Test RMSE = 95.374719298545\n",
      "i: 0.1 j: 0.3 k: 0.01\n",
      "Train RMSE = 6.449203805540\n",
      "Test RMSE = 37.099160263455\n",
      "i: 0.1 j: 0.3 k: 0.1\n",
      "Train RMSE = 12.069846768139\n",
      "Test RMSE = 30.125375993561\n",
      "i: 0.1 j: 0.5 k: 0.0001\n",
      "Train RMSE = 1.266208995433\n",
      "Test RMSE = 171.221587137718\n",
      "i: 0.1 j: 0.5 k: 0.0005\n",
      "Train RMSE = 2.209379336075\n",
      "Test RMSE = 113.882969619891\n",
      "i: 0.1 j: 0.5 k: 0.0001\n",
      "Train RMSE = 1.266208995433\n",
      "Test RMSE = 171.221587137718\n",
      "i: 0.1 j: 0.5 k: 0.001\n",
      "Train RMSE = 2.771871388195\n",
      "Test RMSE = 101.713750825902\n",
      "i: 0.1 j: 0.5 k: 0.01\n",
      "Train RMSE = 5.927440936659\n",
      "Test RMSE = 39.531454197744\n",
      "i: 0.1 j: 0.5 k: 0.1\n",
      "Train RMSE = 11.412123420925\n",
      "Test RMSE = 30.333513156683\n",
      "i: 0.1 j: 1 k: 0.0001\n",
      "Train RMSE = 1.097034042543\n",
      "Test RMSE = 229.353576504058\n",
      "i: 0.1 j: 1 k: 0.0005\n",
      "Train RMSE = 1.982718602533\n",
      "Test RMSE = 118.459418260360\n",
      "i: 0.1 j: 1 k: 0.0001\n",
      "Train RMSE = 1.097034042543\n",
      "Test RMSE = 229.353576504058\n",
      "i: 0.1 j: 1 k: 0.001\n",
      "Train RMSE = 2.470694258389\n",
      "Test RMSE = 108.584271523626\n",
      "i: 0.1 j: 1 k: 0.01\n",
      "Train RMSE = 5.306263464902\n",
      "Test RMSE = 44.309410190760\n",
      "i: 0.1 j: 1 k: 0.1\n",
      "Train RMSE = 10.581573509298\n",
      "Test RMSE = 30.669373499380\n",
      "i: 0.1 j: 2 k: 0.0001\n",
      "Train RMSE = 0.958480884018\n",
      "Test RMSE = 307.668845284439\n",
      "i: 0.1 j: 2 k: 0.0005\n",
      "Train RMSE = 1.776599258342\n",
      "Test RMSE = 123.462692275044\n",
      "i: 0.1 j: 2 k: 0.0001\n",
      "Train RMSE = 0.958480884018\n",
      "Test RMSE = 307.668845284439\n",
      "i: 0.1 j: 2 k: 0.001\n",
      "Train RMSE = 2.209379336075\n",
      "Test RMSE = 113.882969619891\n",
      "i: 0.1 j: 2 k: 0.01\n",
      "Train RMSE = 4.754077517309\n",
      "Test RMSE = 51.805103635604\n",
      "i: 0.1 j: 2 k: 0.1\n",
      "Train RMSE = 9.768907873263\n",
      "Test RMSE = 31.095062341339\n",
      "i: 0.1 j: 3 k: 0.0001\n",
      "Train RMSE = 0.894450207832\n",
      "Test RMSE = 354.702422800331\n",
      "i: 0.1 j: 3 k: 0.0005\n",
      "Train RMSE = 1.660400878314\n",
      "Test RMSE = 127.326784443872\n",
      "i: 0.1 j: 3 k: 0.0001\n",
      "Train RMSE = 0.894450207832\n",
      "Test RMSE = 354.702422800331\n",
      "i: 0.1 j: 3 k: 0.001\n",
      "Train RMSE = 2.073417055725\n",
      "Test RMSE = 116.579478979875\n",
      "i: 0.1 j: 3 k: 0.01\n",
      "Train RMSE = 4.451806115866\n",
      "Test RMSE = 57.608438565705\n",
      "i: 0.1 j: 3 k: 0.1\n",
      "Train RMSE = 9.282412048011\n",
      "Test RMSE = 31.447647411836\n",
      "i: 0.5 j: 0.1 k: 0.0001\n",
      "Train RMSE = 10.731112426087\n",
      "Test RMSE = 138.114604875494\n",
      "i: 0.5 j: 0.1 k: 0.0005\n",
      "Train RMSE = 12.984484108002\n",
      "Test RMSE = 62.473882428571\n",
      "i: 0.5 j: 0.1 k: 0.0001\n",
      "Train RMSE = 10.731112426087\n",
      "Test RMSE = 138.114604875494\n",
      "i: 0.5 j: 0.1 k: 0.001\n",
      "Train RMSE = 14.026324913949\n",
      "Test RMSE = 49.284984213165\n",
      "i: 0.5 j: 0.1 k: 0.01\n",
      "Train RMSE = 17.217248443491\n",
      "Test RMSE = 32.869071611765\n",
      "i: 0.5 j: 0.1 k: 0.1\n",
      "Train RMSE = 22.378923363157\n",
      "Test RMSE = 28.376288203971\n",
      "i: 0.5 j: 0.3 k: 0.0001\n",
      "Train RMSE = 10.070293857356\n",
      "Test RMSE = 217.321458852696\n",
      "i: 0.5 j: 0.3 k: 0.0005\n",
      "Train RMSE = 12.172960381392\n",
      "Test RMSE = 73.915233712079\n",
      "i: 0.5 j: 0.3 k: 0.0001\n",
      "Train RMSE = 10.070293857356\n",
      "Test RMSE = 217.321458852696\n",
      "i: 0.5 j: 0.3 k: 0.001\n",
      "Train RMSE = 13.201555719613\n",
      "Test RMSE = 59.573957358558\n",
      "i: 0.5 j: 0.3 k: 0.01\n",
      "Train RMSE = 16.505273760786\n",
      "Test RMSE = 35.451531491698\n",
      "i: 0.5 j: 0.3 k: 0.1\n",
      "Train RMSE = 20.587301700301\n",
      "Test RMSE = 27.646735250408\n",
      "i: 0.5 j: 0.5 k: 0.0001\n",
      "Train RMSE = 9.802119075409\n",
      "Test RMSE = 257.488254568916\n",
      "i: 0.5 j: 0.5 k: 0.0005\n",
      "Train RMSE = 11.811117454760\n",
      "Test RMSE = 81.110989502909\n",
      "i: 0.5 j: 0.5 k: 0.0001\n",
      "Train RMSE = 9.802119075409\n",
      "Test RMSE = 257.488254568916\n",
      "i: 0.5 j: 0.5 k: 0.001\n",
      "Train RMSE = 12.816828286420\n",
      "Test RMSE = 64.710931273917\n",
      "i: 0.5 j: 0.5 k: 0.01\n",
      "Train RMSE = 16.166488093532\n",
      "Test RMSE = 36.656198143077\n",
      "i: 0.5 j: 0.5 k: 0.1\n",
      "Train RMSE = 19.884675452720\n",
      "Test RMSE = 27.691686401046\n",
      "i: 0.5 j: 1 k: 0.0001\n",
      "Train RMSE = 9.475197332070\n",
      "Test RMSE = 308.341603729699\n",
      "i: 0.5 j: 1 k: 0.0005\n",
      "Train RMSE = 11.335642770372\n",
      "Test RMSE = 97.141279796942\n",
      "i: 0.5 j: 1 k: 0.0001\n",
      "Train RMSE = 9.475197332070\n",
      "Test RMSE = 308.341603729699\n",
      "i: 0.5 j: 1 k: 0.001\n",
      "Train RMSE = 12.304714296220\n",
      "Test RMSE = 71.829177115136\n",
      "i: 0.5 j: 1 k: 0.01\n",
      "Train RMSE = 15.691437010189\n",
      "Test RMSE = 38.365714382310\n",
      "i: 0.5 j: 1 k: 0.1\n",
      "Train RMSE = 19.067100109244\n",
      "Test RMSE = 28.262759146440\n",
      "i: 0.5 j: 2 k: 0.0001\n",
      "Train RMSE = 9.168382844607\n",
      "Test RMSE = 353.113441734861\n",
      "i: 0.5 j: 2 k: 0.0005\n",
      "Train RMSE = 10.875420020122\n",
      "Test RMSE = 125.657398526273\n",
      "i: 0.5 j: 2 k: 0.0001\n",
      "Train RMSE = 9.168382844607\n",
      "Test RMSE = 353.113441734861\n",
      "i: 0.5 j: 2 k: 0.001\n",
      "Train RMSE = 11.811117454760\n",
      "Test RMSE = 81.110989502909\n",
      "i: 0.5 j: 2 k: 0.01\n",
      "Train RMSE = 15.200666576679\n",
      "Test RMSE = 40.437164628906\n",
      "i: 0.5 j: 2 k: 0.1\n",
      "Train RMSE = 18.397704716895\n",
      "Test RMSE = 29.372246604747\n",
      "i: 0.5 j: 3 k: 0.0001\n",
      "Train RMSE = 8.987085976057\n",
      "Test RMSE = 376.741278477626\n",
      "i: 0.5 j: 3 k: 0.0005\n",
      "Train RMSE = 10.615107232790\n",
      "Test RMSE = 149.445386118407\n",
      "i: 0.5 j: 3 k: 0.0001\n",
      "Train RMSE = 8.987085976057\n",
      "Test RMSE = 376.741278477626\n",
      "i: 0.5 j: 3 k: 0.001\n",
      "Train RMSE = 11.531049178437\n",
      "Test RMSE = 89.293677991330\n",
      "i: 0.5 j: 3 k: 0.01\n",
      "Train RMSE = 14.908593317642\n",
      "Test RMSE = 41.997622215739\n",
      "i: 0.5 j: 3 k: 0.1\n",
      "Train RMSE = 18.062807700489\n",
      "Test RMSE = 30.184701792583\n",
      "i: 1 j: 0.1 k: 0.0001\n",
      "Train RMSE = 15.243475530537\n",
      "Test RMSE = 93.469224815583\n",
      "i: 1 j: 0.1 k: 0.0005\n",
      "Train RMSE = 17.027558024685\n",
      "Test RMSE = 61.386123631629\n",
      "i: 1 j: 0.1 k: 0.0001\n",
      "Train RMSE = 15.243475530537\n",
      "Test RMSE = 93.469224815583\n",
      "i: 1 j: 0.1 k: 0.001\n",
      "Train RMSE = 17.797435465596\n",
      "Test RMSE = 47.857046942460\n",
      "i: 1 j: 0.1 k: 0.01\n",
      "Train RMSE = 20.984680533183\n",
      "Test RMSE = 28.742369413241\n",
      "i: 1 j: 0.1 k: 0.1\n",
      "Train RMSE = 28.687512886467\n",
      "Test RMSE = 33.450256347051\n",
      "i: 1 j: 0.3 k: 0.0001\n",
      "Train RMSE = 14.626819041260\n",
      "Test RMSE = 112.522905182200\n",
      "i: 1 j: 0.3 k: 0.0005\n",
      "Train RMSE = 16.420559901460\n",
      "Test RMSE = 79.204190381303\n",
      "i: 1 j: 0.3 k: 0.0001\n",
      "Train RMSE = 14.626819041260\n",
      "Test RMSE = 112.522905182200\n",
      "i: 1 j: 0.3 k: 0.001\n",
      "Train RMSE = 17.186270832933\n",
      "Test RMSE = 57.794126599965\n",
      "i: 1 j: 0.3 k: 0.01\n",
      "Train RMSE = 20.039268450757\n",
      "Test RMSE = 29.652739596878\n",
      "i: 1 j: 0.3 k: 0.1\n",
      "Train RMSE = 26.206692558363\n",
      "Test RMSE = 31.438193804990\n",
      "i: 1 j: 0.5 k: 0.0001\n",
      "Train RMSE = 14.333827655546\n",
      "Test RMSE = 144.008437606495\n",
      "i: 1 j: 0.5 k: 0.0005\n",
      "Train RMSE = 16.137122373447\n",
      "Test RMSE = 87.625120455422\n",
      "i: 1 j: 0.5 k: 0.0001\n",
      "Train RMSE = 14.333827655546\n",
      "Test RMSE = 144.008437606495\n",
      "i: 1 j: 0.5 k: 0.001\n",
      "Train RMSE = 16.904508177563\n",
      "Test RMSE = 64.534107840523\n",
      "i: 1 j: 0.5 k: 0.01\n",
      "Train RMSE = 19.658544947249\n",
      "Test RMSE = 30.626187313120\n",
      "i: 1 j: 0.5 k: 0.1\n",
      "Train RMSE = 25.193183462963\n",
      "Test RMSE = 30.641609839294\n",
      "i: 1 j: 1 k: 0.0001\n",
      "Train RMSE = 13.929814547685\n",
      "Test RMSE = 204.795655908910\n",
      "i: 1 j: 1 k: 0.0005\n",
      "Train RMSE = 15.752315930281\n",
      "Test RMSE = 94.583112649431\n",
      "i: 1 j: 1 k: 0.0001\n",
      "Train RMSE = 13.929814547685\n",
      "Test RMSE = 204.795655908910\n",
      "i: 1 j: 1 k: 0.001\n",
      "Train RMSE = 16.521566612900\n",
      "Test RMSE = 75.986090212668\n",
      "i: 1 j: 1 k: 0.01\n",
      "Train RMSE = 19.178965288332\n",
      "Test RMSE = 32.902610187822\n",
      "i: 1 j: 1 k: 0.1\n",
      "Train RMSE = 23.950844589977\n",
      "Test RMSE = 29.735303938517\n",
      "i: 1 j: 2 k: 0.0001\n",
      "Train RMSE = 13.521598314458\n",
      "Test RMSE = 280.913554094067\n",
      "i: 1 j: 2 k: 0.0005\n",
      "Train RMSE = 15.367517760087\n",
      "Test RMSE = 94.242152968300\n",
      "i: 1 j: 2 k: 0.0001\n",
      "Train RMSE = 13.521598314458\n",
      "Test RMSE = 280.913554094067\n",
      "i: 1 j: 2 k: 0.001\n",
      "Train RMSE = 16.137122373447\n",
      "Test RMSE = 87.625120455422\n",
      "i: 1 j: 2 k: 0.01\n",
      "Train RMSE = 18.735639215365\n",
      "Test RMSE = 36.554097876518\n",
      "i: 1 j: 2 k: 0.1\n",
      "Train RMSE = 22.878593390447\n",
      "Test RMSE = 29.087141279197\n",
      "i: 1 j: 3 k: 0.0001\n",
      "Train RMSE = 13.282163638734\n",
      "Test RMSE = 332.286625433894\n",
      "i: 1 j: 3 k: 0.0005\n",
      "Train RMSE = 15.141969326626\n",
      "Test RMSE = 93.243664422221\n",
      "i: 1 j: 3 k: 0.0001\n",
      "Train RMSE = 13.282163638734\n",
      "Test RMSE = 332.286625433894\n"
     ]
    },
    {
     "name": "stdout",
     "output_type": "stream",
     "text": [
      "i: 1 j: 3 k: 0.001\n",
      "Train RMSE = 15.912004659452\n",
      "Test RMSE = 92.571875034037\n",
      "i: 1 j: 3 k: 0.01\n",
      "Train RMSE = 18.490377851097\n",
      "Test RMSE = 39.226219010241\n",
      "i: 1 j: 3 k: 0.1\n",
      "Train RMSE = 22.330307227392\n",
      "Test RMSE = 28.844498070573\n",
      "i: 3 j: 0.1 k: 0.0001\n",
      "Train RMSE = 20.897241165691\n",
      "Test RMSE = 57.037356488626\n",
      "i: 3 j: 0.1 k: 0.0005\n",
      "Train RMSE = 23.040840515862\n",
      "Test RMSE = 32.406813085299\n",
      "i: 3 j: 0.1 k: 0.0001\n",
      "Train RMSE = 20.897241165691\n",
      "Test RMSE = 57.037356488626\n",
      "i: 3 j: 0.1 k: 0.001\n",
      "Train RMSE = 24.143296792822\n",
      "Test RMSE = 31.564868776552\n",
      "i: 3 j: 0.1 k: 0.01\n",
      "Train RMSE = 27.868676690726\n",
      "Test RMSE = 32.065059878375\n",
      "i: 3 j: 0.1 k: 0.1\n",
      "Train RMSE = 40.450490336196\n",
      "Test RMSE = 41.409340209433\n",
      "i: 3 j: 0.3 k: 0.0001\n",
      "Train RMSE = 20.193860992031\n",
      "Test RMSE = 79.893618578975\n",
      "i: 3 j: 0.3 k: 0.0005\n",
      "Train RMSE = 22.261018550560\n",
      "Test RMSE = 36.023569025456\n",
      "i: 3 j: 0.3 k: 0.0001\n",
      "Train RMSE = 20.193860992031\n",
      "Test RMSE = 79.893618578975\n",
      "i: 3 j: 0.3 k: 0.001\n",
      "Train RMSE = 23.262601123561\n",
      "Test RMSE = 32.093699761650\n",
      "i: 3 j: 0.3 k: 0.01\n",
      "Train RMSE = 26.782437769884\n",
      "Test RMSE = 31.774318953522\n",
      "i: 3 j: 0.3 k: 0.1\n",
      "Train RMSE = 37.235117384041\n",
      "Test RMSE = 38.375903907185\n",
      "i: 3 j: 0.5 k: 0.0001\n",
      "Train RMSE = 19.872895368754\n",
      "Test RMSE = 96.264517498765\n",
      "i: 3 j: 0.5 k: 0.0005\n",
      "Train RMSE = 21.925378631217\n",
      "Test RMSE = 39.504477133479\n",
      "i: 3 j: 0.5 k: 0.0001\n",
      "Train RMSE = 19.872895368754\n",
      "Test RMSE = 96.264517498765\n",
      "i: 3 j: 0.5 k: 0.001\n",
      "Train RMSE = 22.873853064122\n",
      "Test RMSE = 32.778949558368\n",
      "i: 3 j: 0.5 k: 0.01\n",
      "Train RMSE = 26.394954003826\n",
      "Test RMSE = 31.675939737871\n",
      "i: 3 j: 0.5 k: 0.1\n",
      "Train RMSE = 35.521383956546\n",
      "Test RMSE = 36.863323534813\n",
      "i: 3 j: 1 k: 0.0001\n",
      "Train RMSE = 19.460821251787\n",
      "Test RMSE = 124.678709731816\n",
      "i: 3 j: 1 k: 0.0005\n",
      "Train RMSE = 21.480662329495\n",
      "Test RMSE = 45.838365838833\n",
      "i: 3 j: 1 k: 0.0001\n",
      "Train RMSE = 19.460821251787\n",
      "Test RMSE = 124.678709731816\n",
      "i: 3 j: 1 k: 0.001\n",
      "Train RMSE = 22.383843793719\n",
      "Test RMSE = 35.068943643717\n",
      "i: 3 j: 1 k: 0.01\n",
      "Train RMSE = 25.893281287011\n",
      "Test RMSE = 31.498913090393\n",
      "i: 3 j: 1 k: 0.1\n",
      "Train RMSE = 33.204495344549\n",
      "Test RMSE = 35.024360904836\n",
      "i: 3 j: 2 k: 0.0001\n",
      "Train RMSE = 19.087883335404\n",
      "Test RMSE = 162.826379893027\n",
      "i: 3 j: 2 k: 0.0005\n",
      "Train RMSE = 21.039543698570\n",
      "Test RMSE = 53.905806238726\n",
      "i: 3 j: 2 k: 0.0001\n",
      "Train RMSE = 19.087883335404\n",
      "Test RMSE = 162.826379893027\n",
      "i: 3 j: 2 k: 0.001\n",
      "Train RMSE = 21.925378631217\n",
      "Test RMSE = 39.504477133479\n",
      "i: 3 j: 2 k: 0.01\n",
      "Train RMSE = 25.384330481733\n",
      "Test RMSE = 31.326069947031\n",
      "i: 3 j: 2 k: 0.1\n",
      "Train RMSE = 31.105164291070\n",
      "Test RMSE = 33.625583457531\n",
      "i: 3 j: 3 k: 0.0001\n",
      "Train RMSE = 18.887067818185\n",
      "Test RMSE = 194.352258960298\n",
      "i: 3 j: 3 k: 0.0005\n",
      "Train RMSE = 20.780708507447\n",
      "Test RMSE = 59.880325856653\n",
      "i: 3 j: 3 k: 0.0001\n",
      "Train RMSE = 18.887067818185\n",
      "Test RMSE = 194.352258960298\n",
      "i: 3 j: 3 k: 0.001\n",
      "Train RMSE = 21.664368171634\n",
      "Test RMSE = 43.011451961172\n",
      "i: 3 j: 3 k: 0.01\n",
      "Train RMSE = 25.079996138075\n",
      "Test RMSE = 31.289167084544\n",
      "i: 3 j: 3 k: 0.1\n",
      "Train RMSE = 30.051606300029\n",
      "Test RMSE = 33.031116036446\n",
      "i: 5 j: 0.1 k: 0.0001\n",
      "Train RMSE = 23.723945644518\n",
      "Test RMSE = 62.997514467340\n",
      "i: 5 j: 0.1 k: 0.0005\n",
      "Train RMSE = 25.768487130154\n",
      "Test RMSE = 31.708457576749\n",
      "i: 5 j: 0.1 k: 0.0001\n",
      "Train RMSE = 23.723945644518\n",
      "Test RMSE = 62.997514467340\n",
      "i: 5 j: 0.1 k: 0.001\n",
      "Train RMSE = 26.643022871382\n",
      "Test RMSE = 31.725310597350\n",
      "i: 5 j: 0.1 k: 0.01\n",
      "Train RMSE = 31.763823301518\n",
      "Test RMSE = 34.101033647726\n",
      "i: 5 j: 0.1 k: 0.1\n",
      "Train RMSE = 44.091034813742\n",
      "Test RMSE = 44.723769916373\n",
      "i: 5 j: 0.3 k: 0.0001\n",
      "Train RMSE = 22.913899172983\n",
      "Test RMSE = 100.671483289272\n",
      "i: 5 j: 0.3 k: 0.0005\n",
      "Train RMSE = 25.096149578885\n",
      "Test RMSE = 33.995938991411\n",
      "i: 5 j: 0.3 k: 0.0001\n",
      "Train RMSE = 22.913899172983\n",
      "Test RMSE = 100.671483289272\n",
      "i: 5 j: 0.3 k: 0.001\n",
      "Train RMSE = 25.946359540655\n",
      "Test RMSE = 31.594349493218\n",
      "i: 5 j: 0.3 k: 0.01\n",
      "Train RMSE = 29.818473501851\n",
      "Test RMSE = 33.100180372593\n",
      "i: 5 j: 0.3 k: 0.1\n",
      "Train RMSE = 42.008453339234\n",
      "Test RMSE = 42.370756470698\n",
      "i: 5 j: 0.5 k: 0.0001\n",
      "Train RMSE = 22.546623339063\n",
      "Test RMSE = 120.917973876491\n",
      "i: 5 j: 0.5 k: 0.0005\n",
      "Train RMSE = 24.782606449295\n",
      "Test RMSE = 36.953216694870\n",
      "i: 5 j: 0.5 k: 0.0001\n",
      "Train RMSE = 22.546623339063\n",
      "Test RMSE = 120.917973876491\n",
      "i: 5 j: 0.5 k: 0.001\n",
      "Train RMSE = 25.631290267187\n",
      "Test RMSE = 31.888109081337\n",
      "i: 5 j: 0.5 k: 0.01\n",
      "Train RMSE = 29.161698472553\n",
      "Test RMSE = 32.751951844664\n",
      "i: 5 j: 0.5 k: 0.1\n",
      "Train RMSE = 40.701826001097\n",
      "Test RMSE = 40.976946057650\n",
      "i: 5 j: 1 k: 0.0001\n",
      "Train RMSE = 22.085780425089\n",
      "Test RMSE = 145.859765261591\n",
      "i: 5 j: 1 k: 0.0005\n",
      "Train RMSE = 24.345906429358\n",
      "Test RMSE = 44.344298235074\n",
      "i: 5 j: 1 k: 0.0001\n",
      "Train RMSE = 22.085780425089\n",
      "Test RMSE = 145.859765261591\n",
      "i: 5 j: 1 k: 0.001\n",
      "Train RMSE = 25.207493234348\n",
      "Test RMSE = 33.307327249977\n",
      "i: 5 j: 1 k: 0.01\n",
      "Train RMSE = 28.415166833858\n",
      "Test RMSE = 32.418387240578\n",
      "i: 5 j: 1 k: 0.1\n",
      "Train RMSE = 38.611467443840\n",
      "Test RMSE = 38.919492175144\n",
      "i: 5 j: 2 k: 0.0001\n",
      "Train RMSE = 21.661798196718\n",
      "Test RMSE = 165.231324799632\n",
      "i: 5 j: 2 k: 0.0005\n",
      "Train RMSE = 23.881372452550\n",
      "Test RMSE = 57.343917851971\n",
      "i: 5 j: 2 k: 0.0001\n",
      "Train RMSE = 21.661798196718\n",
      "Test RMSE = 165.231324799632\n",
      "i: 5 j: 2 k: 0.001\n",
      "Train RMSE = 24.782606449295\n",
      "Test RMSE = 36.953216694870\n",
      "i: 5 j: 2 k: 0.01\n",
      "Train RMSE = 27.793655686938\n",
      "Test RMSE = 32.213667215707\n",
      "i: 5 j: 2 k: 0.1\n",
      "Train RMSE = 36.344577675905\n",
      "Test RMSE = 36.982114430772\n",
      "i: 5 j: 3 k: 0.0001\n",
      "Train RMSE = 21.424020285021\n",
      "Test RMSE = 174.050515882167\n",
      "i: 5 j: 3 k: 0.0005\n",
      "Train RMSE = 23.592571112459\n",
      "Test RMSE = 68.177023424476\n",
      "i: 5 j: 3 k: 0.0001\n",
      "Train RMSE = 21.424020285021\n",
      "Test RMSE = 174.050515882167\n",
      "i: 5 j: 3 k: 0.001\n",
      "Train RMSE = 24.529574523462\n",
      "Test RMSE = 40.706784346613\n",
      "i: 5 j: 3 k: 0.01\n",
      "Train RMSE = 27.475462757791\n",
      "Test RMSE = 32.105823138676\n",
      "i: 5 j: 3 k: 0.1\n",
      "Train RMSE = 35.042593338177\n",
      "Test RMSE = 36.025977955392\n"
     ]
    }
   ],
   "source": [
    "# for i in [0.1, 0.5, 1, 3, 5]:\n",
    "#     for j in [0.1, 0.3, 0.5, 1, 2, 3]:\n",
    "#         for k in [0.0001, 0.0005, 0.0001, 0.001, 0.01, 0.1]:\n",
    "#             l = i\n",
    "#             k0 = j\n",
    "#             sigma = k\n",
    "#             model = GP(l,k0,sigma)\n",
    "#             train_prediction=model.predict(X_train, y_train, X_train)\n",
    "#             test_prediction=model.predict(X_train, y_train, X_test)\n",
    "#             print('i:',i,'j:', j,'k:', k)\n",
    "#             print('Train RMSE = {:.12f}'.format(rmse(y_train,train_prediction)))\n",
    "#             print('Test RMSE = {:.12f}'.format(rmse(y_test,test_prediction)))"
   ]
  },
  {
   "cell_type": "code",
   "execution_count": 44,
   "metadata": {},
   "outputs": [
    {
     "name": "stdout",
     "output_type": "stream",
     "text": [
      "Train RMSE = 20.984680533183\n",
      "Test RMSE = 28.742369413241\n"
     ]
    }
   ],
   "source": [
    "# i: 1 j: 0.1 k: 0.01\n",
    "# Train RMSE = 20.984680533183\n",
    "# Test RMSE = 28.742369413241\n",
    "l = 1\n",
    "k0 = 0.1\n",
    "sigma = 0.01\n",
    "model = GP(l,k0,sigma)\n",
    "train_prediction=model.predict(X_train, y_train, X_train)\n",
    "test_prediction=model.predict(X_train, y_train, X_test)\n",
    "print('Train RMSE = {:.12f}'.format(rmse(y_train,train_prediction)))\n",
    "print('Test RMSE = {:.12f}'.format(rmse(y_test,test_prediction)))"
   ]
  },
  {
   "cell_type": "code",
   "execution_count": 45,
   "metadata": {},
   "outputs": [
    {
     "name": "stdout",
     "output_type": "stream",
     "text": [
      "1622\n",
      "1622\n",
      "406\n",
      "406\n"
     ]
    }
   ],
   "source": [
    "print(len(train_prediction))\n",
    "print(len(y_train))\n",
    "print(len(test_prediction))\n",
    "print(len(y_test))"
   ]
  },
  {
   "cell_type": "code",
   "execution_count": 47,
   "metadata": {},
   "outputs": [
    {
     "data": {
      "image/png": "[encoded data removed]",
      "text/plain": [
       "<Figure size 864x432 with 1 Axes>"
      ]
     },
     "metadata": {
      "needs_background": "light"
     },
     "output_type": "display_data"
    }
   ],
   "source": [
    "fig = plt.figure(figsize = (12, 6))\n",
    "\n",
    "plt.title(\"Coulomb matrix fingerprint and Guassian process\")\n",
    "plt.scatter(y_train, train_prediction , label = 'Train RMSE = {:.2f}'.format(rmse(y_train,train_prediction)))\n",
    "plt.scatter(y_test, test_prediction, label = 'Test RMSE = {:.2f}'.format(rmse(y_test,test_prediction)))\n",
    "plt.plot(y_test, y_test, linestyle = \"--\", color = \"k\")\n",
    "plt.xlabel(\"$E_{true}$\")\n",
    "plt.ylabel(\"$E_{pred}$\")\n",
    "plt.legend()\n",
    "plt.show()"
   ]
  },
  {
   "cell_type": "markdown",
   "metadata": {},
   "source": [
    "# Prepare submission to Kaggle"
   ]
  },
  {
   "cell_type": "code",
   "execution_count": null,
   "metadata": {},
   "outputs": [],
   "source": [
    "cmats_test = np.zeros((len(test),max_number_of_atoms))\n",
    "for i,atoms in enumerate(test.atoms):\n",
    "    if i%1000 == 0:\n",
    "        print(i)\n",
    "    cmat = coulomb_matrix(atoms,max_number_of_atoms)\n",
    "    cmats_test[i,:] = cmat.flatten()\n",
    "print(len(cmats))"
   ]
  },
  {
   "cell_type": "code",
   "execution_count": null,
   "metadata": {},
   "outputs": [],
   "source": [
    "X_test_kaggle = pd.DataFrame(data = cmats_test, index=test.index)\n",
    "X_test_kaggle.loc[:,:] = scaler.transform(X_test_kaggle)\n",
    "print(X_test_kaggle[:1])"
   ]
  },
  {
   "cell_type": "code",
   "execution_count": null,
   "metadata": {},
   "outputs": [],
   "source": [
    "# test_prediction_dataframe = pd.DataFrame(data = {'ID':test.index,\n",
    "#                                                  'Voigt_modulus':model.predict(X_test_kaggle)})\n",
    "test_prediction_dataframe = pd.DataFrame(data = {'ID':test.index,\n",
    "                                                 'Voigt_modulus':model.predict(X_train, y_train, X_test_kaggle)})\n",
    "test_prediction_dataframe.head()"
   ]
  },
  {
   "cell_type": "code",
   "execution_count": null,
   "metadata": {},
   "outputs": [],
   "source": [
    "test_prediction_dataframe.to_csv(data_dir+'submission_test.csv',index=False)"
   ]
  },
  {
   "cell_type": "code",
   "execution_count": null,
   "metadata": {},
   "outputs": [],
   "source": []
  },
  {
   "cell_type": "code",
   "execution_count": null,
   "metadata": {},
   "outputs": [],
   "source": []
  }
 ],
 "metadata": {
  "kernelspec": {
   "display_name": "Python 3",
   "language": "python",
   "name": "python3"
  },
  "language_info": {
   "codemirror_mode": {
    "name": "ipython",
    "version": 3
   },
   "file_extension": ".py",
   "mimetype": "text/x-python",
   "name": "python",
   "nbconvert_exporter": "python",
   "pygments_lexer": "ipython3",
   "version": "3.8.5"
  }
 },
 "nbformat": 4,
 "nbformat_minor": 4
}
