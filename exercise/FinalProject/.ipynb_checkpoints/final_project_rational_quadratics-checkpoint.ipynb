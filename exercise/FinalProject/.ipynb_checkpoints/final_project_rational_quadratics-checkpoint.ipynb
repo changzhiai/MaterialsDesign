{
 "cells": [
  {
   "cell_type": "markdown",
   "metadata": {},
   "source": [
    "### Imports "
   ]
  },
  {
   "cell_type": "code",
   "execution_count": 1,
   "metadata": {},
   "outputs": [],
   "source": [
    "import numpy as np\n",
    "import pandas as pd\n",
    "import json\n",
    "#from dscribe.descriptors import CoulombMatrix\n",
    "from ase import Atoms\n",
    "import matplotlib.pyplot as plt\n",
    "import matplotlib\n",
    "font = {'size'   : 22}\n",
    "\n",
    "matplotlib.rc('font', **font)\n",
    "\n"
   ]
  },
  {
   "cell_type": "code",
   "execution_count": 2,
   "metadata": {},
   "outputs": [],
   "source": [
    "def pad_with(vector, pad_width, iaxis, kwargs):\n",
    "     pad_value = kwargs.get('padder', 10)\n",
    "     vector[:pad_width[0]] = pad_value\n",
    "     vector[-pad_width[1]:] = pad_value\n",
    "\n",
    "\n",
    "def coulomb_matrix(atoms, n_atoms_max):\n",
    "    # Creating a matrix with the product of the atomic numbers such that M_ij = Z[i]*Z[j]\n",
    "    atomic_numbers = np.outer(atoms.get_atomic_numbers(),atoms.get_atomic_numbers())\n",
    "    # Getting the distance matrix of the atoms object, such that element D_ij = |r_i - r_j|\n",
    "    distances = atoms.get_all_distances()\n",
    "    # Setting the diagonal elements, which are all zero, to 1 to avoid overflow errors\n",
    "    np.fill_diagonal(distances, 1)\n",
    "    \n",
    "    # Creating the Cmat\n",
    "    cmat = np.multiply(atomic_numbers, 1/distances) # Element wise multiplication\n",
    "    np.fill_diagonal(cmat, 0.5*np.array(atoms.get_atomic_numbers())**2.4) # Filling the diagonal as described in the slides\n",
    "    \n",
    "    # Taking the sorted eigenvalues and padding with zeros such that all of the fingerprints have the same size\n",
    "    shape = cmat.shape\n",
    "    cmat,_ = np.linalg.eig(cmat)\n",
    "    cmat = np.flip(np.sort(cmat))\n",
    "    holder = np.zeros(n_atoms_max)\n",
    "    holder[:shape[0]] = cmat\n",
    "    cmat = holder\n",
    "    \n",
    "    return cmat\n",
    "\n"
   ]
  },
  {
   "cell_type": "markdown",
   "metadata": {},
   "source": [
    "## Loading data and setting up the data frames"
   ]
  },
  {
   "cell_type": "code",
   "execution_count": 3,
   "metadata": {},
   "outputs": [],
   "source": [
    "data_dir = \"\" # Specify your data path (Folder in which the files are placed)"
   ]
  },
  {
   "cell_type": "code",
   "execution_count": 4,
   "metadata": {},
   "outputs": [],
   "source": [
    "# Loading the data as pandas DataFrame\n",
    "train = pd.DataFrame(json.load(open(data_dir + \"train.json\", \"rb\")))\n",
    "train = train[train.dynamic_stability_level != 1] # remove unstable\n",
    "test = pd.DataFrame(json.load(open(data_dir + \"test.json\", \"rb\")))\n",
    "## Transform atoms entry to ASE atoms object\n",
    "train.atoms = train.atoms.apply(lambda x: Atoms(**x)) # OBS This one is important!\n",
    "test.atoms = test.atoms.apply(lambda x: Atoms(**x))"
   ]
  },
  {
   "cell_type": "code",
   "execution_count": 5,
   "metadata": {},
   "outputs": [
    {
     "name": "stdout",
     "output_type": "stream",
     "text": [
      "Train data shape: (1559, 5)\n"
     ]
    },
    {
     "data": {
      "text/html": [
       "<div>\n",
       "<style scoped>\n",
       "    .dataframe tbody tr th:only-of-type {\n",
       "        vertical-align: middle;\n",
       "    }\n",
       "\n",
       "    .dataframe tbody tr th {\n",
       "        vertical-align: top;\n",
       "    }\n",
       "\n",
       "    .dataframe thead th {\n",
       "        text-align: right;\n",
       "    }\n",
       "</style>\n",
       "<table border=\"1\" class=\"dataframe\">\n",
       "  <thead>\n",
       "    <tr style=\"text-align: right;\">\n",
       "      <th></th>\n",
       "      <th>formula</th>\n",
       "      <th>etot</th>\n",
       "      <th>dynamic_stability_level</th>\n",
       "      <th>atoms</th>\n",
       "      <th>Voigt_modulus</th>\n",
       "    </tr>\n",
       "  </thead>\n",
       "  <tbody>\n",
       "    <tr>\n",
       "      <th>1</th>\n",
       "      <td>NiI2</td>\n",
       "      <td>-9.774512</td>\n",
       "      <td>2</td>\n",
       "      <td>(Atom('Ni', [-7.814021732e-19, -1.673235808e-1...</td>\n",
       "      <td>31.358817</td>\n",
       "    </tr>\n",
       "    <tr>\n",
       "      <th>3</th>\n",
       "      <td>Hf4N3O2</td>\n",
       "      <td>-85.216280</td>\n",
       "      <td>3</td>\n",
       "      <td>(Atom('Hf', [0.0, 1.8605461437, 11.1322923235]...</td>\n",
       "      <td>279.073400</td>\n",
       "    </tr>\n",
       "    <tr>\n",
       "      <th>6</th>\n",
       "      <td>Cr2Cl2Se2</td>\n",
       "      <td>-34.354062</td>\n",
       "      <td>3</td>\n",
       "      <td>(Atom('Cr', [2.5217362911, 5.385447366e-16, 9....</td>\n",
       "      <td>47.686173</td>\n",
       "    </tr>\n",
       "    <tr>\n",
       "      <th>8</th>\n",
       "      <td>MoBrI</td>\n",
       "      <td>-13.552381</td>\n",
       "      <td>2</td>\n",
       "      <td>(Atom('Mo', [1.543915598e-17, -1.192455131e-16...</td>\n",
       "      <td>15.989285</td>\n",
       "    </tr>\n",
       "    <tr>\n",
       "      <th>9</th>\n",
       "      <td>Tl2I6</td>\n",
       "      <td>-14.982825</td>\n",
       "      <td>2</td>\n",
       "      <td>(Atom('Tl', [3.8955234015, 2.2490814845, 9.460...</td>\n",
       "      <td>5.012215</td>\n",
       "    </tr>\n",
       "  </tbody>\n",
       "</table>\n",
       "</div>"
      ],
      "text/plain": [
       "     formula       etot  dynamic_stability_level  \\\n",
       "1       NiI2  -9.774512                        2   \n",
       "3    Hf4N3O2 -85.216280                        3   \n",
       "6  Cr2Cl2Se2 -34.354062                        3   \n",
       "8      MoBrI -13.552381                        2   \n",
       "9      Tl2I6 -14.982825                        2   \n",
       "\n",
       "                                               atoms  Voigt_modulus  \n",
       "1  (Atom('Ni', [-7.814021732e-19, -1.673235808e-1...      31.358817  \n",
       "3  (Atom('Hf', [0.0, 1.8605461437, 11.1322923235]...     279.073400  \n",
       "6  (Atom('Cr', [2.5217362911, 5.385447366e-16, 9....      47.686173  \n",
       "8  (Atom('Mo', [1.543915598e-17, -1.192455131e-16...      15.989285  \n",
       "9  (Atom('Tl', [3.8955234015, 2.2490814845, 9.460...       5.012215  "
      ]
     },
     "execution_count": 5,
     "metadata": {},
     "output_type": "execute_result"
    }
   ],
   "source": [
    "print('Train data shape: {}'.format(train.shape))\n",
    "train.head()"
   ]
  },
  {
   "cell_type": "code",
   "execution_count": 6,
   "metadata": {},
   "outputs": [
    {
     "data": {
      "text/plain": [
       "Atoms(symbols='Hf4N3O2', pbc=[True, True, False], cell=[[3.2225604508, -6.60462343e-21, 0.0], [-1.6112802254, 2.7908192156, 0.0], [0.0, 0.0, 24.8736800674]])"
      ]
     },
     "execution_count": 6,
     "metadata": {},
     "output_type": "execute_result"
    }
   ],
   "source": [
    "train.atoms[1]"
   ]
  },
  {
   "cell_type": "code",
   "execution_count": 7,
   "metadata": {},
   "outputs": [
    {
     "name": "stdout",
     "output_type": "stream",
     "text": [
      "Test data shape: (264, 3)\n"
     ]
    },
    {
     "data": {
      "text/html": [
       "<div>\n",
       "<style scoped>\n",
       "    .dataframe tbody tr th:only-of-type {\n",
       "        vertical-align: middle;\n",
       "    }\n",
       "\n",
       "    .dataframe tbody tr th {\n",
       "        vertical-align: top;\n",
       "    }\n",
       "\n",
       "    .dataframe thead th {\n",
       "        text-align: right;\n",
       "    }\n",
       "</style>\n",
       "<table border=\"1\" class=\"dataframe\">\n",
       "  <thead>\n",
       "    <tr style=\"text-align: right;\">\n",
       "      <th></th>\n",
       "      <th>formula</th>\n",
       "      <th>etot</th>\n",
       "      <th>atoms</th>\n",
       "    </tr>\n",
       "  </thead>\n",
       "  <tbody>\n",
       "    <tr>\n",
       "      <th>0</th>\n",
       "      <td>Ti2Te2</td>\n",
       "      <td>-21.567884</td>\n",
       "      <td>(Atom('Te', [0.0001635792, 0.0005756553, 7.369...</td>\n",
       "    </tr>\n",
       "    <tr>\n",
       "      <th>1</th>\n",
       "      <td>Cu2O2</td>\n",
       "      <td>-19.429111</td>\n",
       "      <td>(Atom('Cu', [-3.606786318e-18, -0.0002926462, ...</td>\n",
       "    </tr>\n",
       "    <tr>\n",
       "      <th>2</th>\n",
       "      <td>Y3C2</td>\n",
       "      <td>-33.214554</td>\n",
       "      <td>(Atom('Y', [3.531761251e-18, -5.785592543e-18,...</td>\n",
       "    </tr>\n",
       "    <tr>\n",
       "      <th>3</th>\n",
       "      <td>Ti2O4</td>\n",
       "      <td>-51.580206</td>\n",
       "      <td>(Atom('Ti', [1.135647763e-19, 0.0301387729, 8....</td>\n",
       "    </tr>\n",
       "    <tr>\n",
       "      <th>4</th>\n",
       "      <td>BiMoAs</td>\n",
       "      <td>-19.967820</td>\n",
       "      <td>(Atom('Mo', [6.983934515e-18, 2.357780987e-16,...</td>\n",
       "    </tr>\n",
       "  </tbody>\n",
       "</table>\n",
       "</div>"
      ],
      "text/plain": [
       "  formula       etot                                              atoms\n",
       "0  Ti2Te2 -21.567884  (Atom('Te', [0.0001635792, 0.0005756553, 7.369...\n",
       "1   Cu2O2 -19.429111  (Atom('Cu', [-3.606786318e-18, -0.0002926462, ...\n",
       "2    Y3C2 -33.214554  (Atom('Y', [3.531761251e-18, -5.785592543e-18,...\n",
       "3   Ti2O4 -51.580206  (Atom('Ti', [1.135647763e-19, 0.0301387729, 8....\n",
       "4  BiMoAs -19.967820  (Atom('Mo', [6.983934515e-18, 2.357780987e-16,..."
      ]
     },
     "execution_count": 7,
     "metadata": {},
     "output_type": "execute_result"
    }
   ],
   "source": [
    "print('Test data shape: {}'.format(test.shape))\n",
    "test.head()"
   ]
  },
  {
   "cell_type": "code",
   "execution_count": 8,
   "metadata": {},
   "outputs": [
    {
     "data": {
      "text/plain": [
       "Atoms(symbols='CuOCuO', pbc=[True, True, False], cell=[[2.8049685284, 1.734570062e-17, 0.0], [-3.746612841e-17, 5.602487274, 0.0], [-7.217855535e-18, 0.0, 16.9711719]])"
      ]
     },
     "execution_count": 8,
     "metadata": {},
     "output_type": "execute_result"
    }
   ],
   "source": [
    "test.atoms[1]"
   ]
  },
  {
   "cell_type": "code",
   "execution_count": 9,
   "metadata": {},
   "outputs": [
    {
     "data": {
      "text/plain": [
       "(array([2, 3], dtype=int64), array([ 538, 1021], dtype=int64))"
      ]
     },
     "execution_count": 9,
     "metadata": {},
     "output_type": "execute_result"
    }
   ],
   "source": [
    "np.unique(train.dynamic_stability_level,return_counts=True)"
   ]
  },
  {
   "cell_type": "code",
   "execution_count": null,
   "metadata": {},
   "outputs": [],
   "source": []
  },
  {
   "cell_type": "markdown",
   "metadata": {},
   "source": [
    "## Creating the Coulomb matrix fingerprint\n",
    "#### First a preprocessing step"
   ]
  },
  {
   "cell_type": "code",
   "execution_count": 10,
   "metadata": {},
   "outputs": [
    {
     "name": "stdout",
     "output_type": "stream",
     "text": [
      "12\n"
     ]
    },
    {
     "name": "stderr",
     "output_type": "stream",
     "text": [
      "C:\\software\\anoconda\\lib\\site-packages\\ase\\atoms.py:971: VisibleDeprecationWarning: Use get_global_number_of_atoms() instead\n",
      "  warnings.warn('Use get_global_number_of_atoms() instead',\n"
     ]
    }
   ],
   "source": [
    "species = []\n",
    "number_of_atoms = []\n",
    "atomic_numbers = []\n",
    "for atom in pd.concat([train.atoms,test.atoms]):\n",
    "    species = list(set(species+atom.get_chemical_symbols()))\n",
    "    atomic_numbers = list(set(atomic_numbers+list(atom.get_atomic_numbers())))\n",
    "    number_of_atoms.append(atom.get_number_of_atoms())\n",
    "\n",
    "max_number_of_atoms = np.max(number_of_atoms)\n",
    "min_atomic_number = np.min(atomic_numbers)\n",
    "max_atomic_number = np.max(atomic_numbers)\n",
    "\n",
    "print(max_number_of_atoms)"
   ]
  },
  {
   "cell_type": "markdown",
   "metadata": {},
   "source": [
    "#### Coulomb matrix"
   ]
  },
  {
   "cell_type": "code",
   "execution_count": 11,
   "metadata": {},
   "outputs": [
    {
     "name": "stdout",
     "output_type": "stream",
     "text": [
      "0\n",
      "1000\n",
      "1559\n"
     ]
    }
   ],
   "source": [
    "cmats = np.zeros((len(train),max_number_of_atoms))\n",
    "for i,atoms in enumerate(train.atoms):\n",
    "    if i%1000 == 0:\n",
    "        print(i)\n",
    "    cmat = coulomb_matrix(atoms,max_number_of_atoms)\n",
    "    cmats[i,:] = cmat.flatten()\n",
    "print(len(cmats))"
   ]
  },
  {
   "cell_type": "code",
   "execution_count": 12,
   "metadata": {},
   "outputs": [
    {
     "data": {
      "text/plain": [
       "(12,)"
      ]
     },
     "execution_count": 12,
     "metadata": {},
     "output_type": "execute_result"
    }
   ],
   "source": [
    "cmat.shape"
   ]
  },
  {
   "cell_type": "code",
   "execution_count": 13,
   "metadata": {},
   "outputs": [
    {
     "name": "stdout",
     "output_type": "stream",
     "text": [
      "1559 (1559, 12)\n"
     ]
    }
   ],
   "source": [
    "print(len(cmats), cmats.shape)"
   ]
  },
  {
   "cell_type": "markdown",
   "metadata": {},
   "source": [
    "# Setting target and feature vector"
   ]
  },
  {
   "cell_type": "code",
   "execution_count": 14,
   "metadata": {},
   "outputs": [
    {
     "name": "stdout",
     "output_type": "stream",
     "text": [
      "X: (1559, 12)\n",
      "y: (1559,)\n"
     ]
    }
   ],
   "source": [
    "X = pd.DataFrame(data = cmats, index=train.index)\n",
    "y = train['Voigt_modulus']\n",
    "print('X: {}'.format(X.shape))\n",
    "print('y: {}'.format(y.shape))"
   ]
  },
  {
   "cell_type": "markdown",
   "metadata": {},
   "source": [
    "## Splitting into test and train set"
   ]
  },
  {
   "cell_type": "code",
   "execution_count": 15,
   "metadata": {},
   "outputs": [
    {
     "data": {
      "image/png": "[encoded data removed]",
      "text/plain": [
       "<Figure size 864x432 with 1 Axes>"
      ]
     },
     "metadata": {
      "needs_background": "light"
     },
     "output_type": "display_data"
    }
   ],
   "source": [
    "from sklearn.model_selection import train_test_split\n",
    "\n",
    "# X_train,X_test,y_train,y_test = train_test_split(X,y,test_size=0.2,random_state=250)\n",
    "X_train,X_test,y_train,y_test = train_test_split(X,y,test_size=0.2)\n",
    "\n",
    "plt.figure(figsize = (12, 6))\n",
    "plt.hist(y_train, bins=30, alpha=0.7, density=True, label='Train set')\n",
    "plt.hist(y_test, bins=30, alpha=0.7, density=True, label='Test set')\n",
    "\n",
    "plt.title(\"Normalized histogram of test and train sets\")\n",
    "plt.xlabel(\"Voigt modulus, GPa\")\n",
    "plt.legend()\n",
    "plt.show()\n"
   ]
  },
  {
   "cell_type": "code",
   "execution_count": 16,
   "metadata": {},
   "outputs": [
    {
     "name": "stdout",
     "output_type": "stream",
     "text": [
      "X_train: (1247, 12)\n",
      "y_train: (1247,)\n",
      "X_test: (312, 12)\n",
      "y_test: (312,)\n"
     ]
    }
   ],
   "source": [
    "print('X_train: {}'.format(X_train.shape))\n",
    "print('y_train: {}'.format(y_train.shape))\n",
    "print('X_test: {}'.format(X_test.shape))\n",
    "print('y_test: {}'.format(y_test.shape))"
   ]
  },
  {
   "cell_type": "code",
   "execution_count": 17,
   "metadata": {},
   "outputs": [
    {
     "data": {
      "text/html": [
       "<div>\n",
       "<style scoped>\n",
       "    .dataframe tbody tr th:only-of-type {\n",
       "        vertical-align: middle;\n",
       "    }\n",
       "\n",
       "    .dataframe tbody tr th {\n",
       "        vertical-align: top;\n",
       "    }\n",
       "\n",
       "    .dataframe thead th {\n",
       "        text-align: right;\n",
       "    }\n",
       "</style>\n",
       "<table border=\"1\" class=\"dataframe\">\n",
       "  <thead>\n",
       "    <tr style=\"text-align: right;\">\n",
       "      <th></th>\n",
       "      <th>0</th>\n",
       "      <th>1</th>\n",
       "      <th>2</th>\n",
       "      <th>3</th>\n",
       "      <th>4</th>\n",
       "      <th>5</th>\n",
       "      <th>6</th>\n",
       "      <th>7</th>\n",
       "      <th>8</th>\n",
       "      <th>9</th>\n",
       "      <th>10</th>\n",
       "      <th>11</th>\n",
       "    </tr>\n",
       "  </thead>\n",
       "  <tbody>\n",
       "    <tr>\n",
       "      <th>311</th>\n",
       "      <td>854.149925</td>\n",
       "      <td>77.296102</td>\n",
       "      <td>48.854852</td>\n",
       "      <td>0.000000</td>\n",
       "      <td>0.000000</td>\n",
       "      <td>0.000000</td>\n",
       "      <td>0.000000</td>\n",
       "      <td>0.000000</td>\n",
       "      <td>0.0</td>\n",
       "      <td>0.0</td>\n",
       "      <td>0.0</td>\n",
       "      <td>0.0</td>\n",
       "    </tr>\n",
       "    <tr>\n",
       "      <th>1223</th>\n",
       "      <td>3143.124214</td>\n",
       "      <td>2001.043114</td>\n",
       "      <td>1248.464088</td>\n",
       "      <td>1069.284090</td>\n",
       "      <td>0.000000</td>\n",
       "      <td>0.000000</td>\n",
       "      <td>0.000000</td>\n",
       "      <td>0.000000</td>\n",
       "      <td>0.0</td>\n",
       "      <td>0.0</td>\n",
       "      <td>0.0</td>\n",
       "      <td>0.0</td>\n",
       "    </tr>\n",
       "    <tr>\n",
       "      <th>1497</th>\n",
       "      <td>4685.847752</td>\n",
       "      <td>3395.953450</td>\n",
       "      <td>647.959224</td>\n",
       "      <td>405.820644</td>\n",
       "      <td>384.016914</td>\n",
       "      <td>378.525808</td>\n",
       "      <td>330.752585</td>\n",
       "      <td>330.693341</td>\n",
       "      <td>0.0</td>\n",
       "      <td>0.0</td>\n",
       "      <td>0.0</td>\n",
       "      <td>0.0</td>\n",
       "    </tr>\n",
       "    <tr>\n",
       "      <th>1798</th>\n",
       "      <td>1868.134828</td>\n",
       "      <td>1281.840450</td>\n",
       "      <td>487.387855</td>\n",
       "      <td>325.702500</td>\n",
       "      <td>298.925569</td>\n",
       "      <td>262.995540</td>\n",
       "      <td>0.000000</td>\n",
       "      <td>0.000000</td>\n",
       "      <td>0.0</td>\n",
       "      <td>0.0</td>\n",
       "      <td>0.0</td>\n",
       "      <td>0.0</td>\n",
       "    </tr>\n",
       "    <tr>\n",
       "      <th>1229</th>\n",
       "      <td>1160.052123</td>\n",
       "      <td>723.066581</td>\n",
       "      <td>69.955635</td>\n",
       "      <td>48.117337</td>\n",
       "      <td>0.000000</td>\n",
       "      <td>0.000000</td>\n",
       "      <td>0.000000</td>\n",
       "      <td>0.000000</td>\n",
       "      <td>0.0</td>\n",
       "      <td>0.0</td>\n",
       "      <td>0.0</td>\n",
       "      <td>0.0</td>\n",
       "    </tr>\n",
       "  </tbody>\n",
       "</table>\n",
       "</div>"
      ],
      "text/plain": [
       "               0            1            2            3           4   \\\n",
       "311    854.149925    77.296102    48.854852     0.000000    0.000000   \n",
       "1223  3143.124214  2001.043114  1248.464088  1069.284090    0.000000   \n",
       "1497  4685.847752  3395.953450   647.959224   405.820644  384.016914   \n",
       "1798  1868.134828  1281.840450   487.387855   325.702500  298.925569   \n",
       "1229  1160.052123   723.066581    69.955635    48.117337    0.000000   \n",
       "\n",
       "              5           6           7    8    9    10   11  \n",
       "311     0.000000    0.000000    0.000000  0.0  0.0  0.0  0.0  \n",
       "1223    0.000000    0.000000    0.000000  0.0  0.0  0.0  0.0  \n",
       "1497  378.525808  330.752585  330.693341  0.0  0.0  0.0  0.0  \n",
       "1798  262.995540    0.000000    0.000000  0.0  0.0  0.0  0.0  \n",
       "1229    0.000000    0.000000    0.000000  0.0  0.0  0.0  0.0  "
      ]
     },
     "execution_count": 17,
     "metadata": {},
     "output_type": "execute_result"
    }
   ],
   "source": [
    "X_train[:5]"
   ]
  },
  {
   "cell_type": "markdown",
   "metadata": {},
   "source": [
    "# Sklearn Ridge Regression model"
   ]
  },
  {
   "cell_type": "code",
   "execution_count": 18,
   "metadata": {},
   "outputs": [],
   "source": [
    "# from sklearn.linear_model import LinearRegression\n",
    "from sklearn.metrics import mean_squared_error as mse\n",
    "# from sklearn.preprocessing import StandardScaler\n",
    "\n",
    "def rmse(y_true, y_pred):\n",
    "    return np.sqrt(mse(y_true, y_pred))"
   ]
  },
  {
   "cell_type": "code",
   "execution_count": 19,
   "metadata": {},
   "outputs": [],
   "source": [
    "# scaler = StandardScaler().fit(X_train)\n",
    "# X_train = scaler.transform(X_train)\n",
    "# X_test = scaler.transform(X_test)"
   ]
  },
  {
   "cell_type": "code",
   "execution_count": 21,
   "metadata": {},
   "outputs": [
    {
     "ename": "NameError",
     "evalue": "name 'RationalQuadratic' is not defined",
     "output_type": "error",
     "traceback": [
      "\u001b[1;31m---------------------------------------------------------------------------\u001b[0m",
      "\u001b[1;31mNameError\u001b[0m                                 Traceback (most recent call last)",
      "\u001b[1;32m<ipython-input-21-e6682cfa0e52>\u001b[0m in \u001b[0;36m<module>\u001b[1;34m\u001b[0m\n\u001b[0;32m      3\u001b[0m \u001b[1;33m\u001b[0m\u001b[0m\n\u001b[0;32m      4\u001b[0m \u001b[1;31m# Instantiate a Gaussian Process model\u001b[0m\u001b[1;33m\u001b[0m\u001b[1;33m\u001b[0m\u001b[1;33m\u001b[0m\u001b[0m\n\u001b[1;32m----> 5\u001b[1;33m \u001b[0mkernel\u001b[0m \u001b[1;33m=\u001b[0m \u001b[0mC\u001b[0m\u001b[1;33m(\u001b[0m\u001b[1;36m1.0\u001b[0m\u001b[1;33m,\u001b[0m \u001b[1;33m(\u001b[0m\u001b[1;36m1e-3\u001b[0m\u001b[1;33m,\u001b[0m \u001b[1;36m1e3\u001b[0m\u001b[1;33m)\u001b[0m\u001b[1;33m)\u001b[0m \u001b[1;33m*\u001b[0m \u001b[0mRationalQuadratic\u001b[0m\u001b[1;33m(\u001b[0m\u001b[0mlength_scale\u001b[0m\u001b[1;33m=\u001b[0m\u001b[1;36m1.0\u001b[0m\u001b[1;33m,\u001b[0m \u001b[0malpha\u001b[0m\u001b[1;33m=\u001b[0m\u001b[1;36m1.0\u001b[0m\u001b[1;33m,\u001b[0m \u001b[0mlength_scale_bounds\u001b[0m\u001b[1;33m=\u001b[0m\u001b[1;33m(\u001b[0m\u001b[1;36m1e-05\u001b[0m\u001b[1;33m,\u001b[0m \u001b[1;36m100000.0\u001b[0m\u001b[1;33m)\u001b[0m\u001b[1;33m,\u001b[0m \u001b[0malpha_bounds\u001b[0m\u001b[1;33m=\u001b[0m\u001b[1;33m(\u001b[0m\u001b[1;36m1e-05\u001b[0m\u001b[1;33m,\u001b[0m \u001b[1;36m100000.0\u001b[0m\u001b[1;33m)\u001b[0m\u001b[1;33m)\u001b[0m\u001b[1;33m\u001b[0m\u001b[1;33m\u001b[0m\u001b[0m\n\u001b[0m\u001b[0;32m      6\u001b[0m \u001b[0mgp\u001b[0m \u001b[1;33m=\u001b[0m \u001b[0mGaussianProcessRegressor\u001b[0m\u001b[1;33m(\u001b[0m\u001b[0mkernel\u001b[0m\u001b[1;33m=\u001b[0m\u001b[0mkernel\u001b[0m\u001b[1;33m,\u001b[0m \u001b[0mn_restarts_optimizer\u001b[0m\u001b[1;33m=\u001b[0m\u001b[1;36m10\u001b[0m\u001b[1;33m,\u001b[0m \u001b[0mnormalize_y\u001b[0m\u001b[1;33m=\u001b[0m\u001b[1;32mTrue\u001b[0m\u001b[1;33m)\u001b[0m\u001b[1;33m\u001b[0m\u001b[1;33m\u001b[0m\u001b[0m\n\u001b[0;32m      7\u001b[0m \u001b[1;33m\u001b[0m\u001b[0m\n",
      "\u001b[1;31mNameError\u001b[0m: name 'RationalQuadratic' is not defined"
     ]
    }
   ],
   "source": [
    "from sklearn.gaussian_process import GaussianProcessRegressor\n",
    "from sklearn.gaussian_process.kernels import RBF, ConstantKernel as C\n",
    "\n",
    "# Instantiate a Gaussian Process model\n",
    "kernel = C(1.0, (1e-3, 1e3)) * RationalQuadratic(length_scale=1.0, alpha=1.0, length_scale_bounds=(1e-05, 100000.0), alpha_bounds=(1e-05, 100000.0))\n",
    "gp = GaussianProcessRegressor(kernel=kernel, n_restarts_optimizer=10, normalize_y=True)\n",
    "\n",
    "# Fit to data using Maximum Likelihood Estimation of the parameters\n",
    "gp.fit(X_train, y_train)\n",
    "\n",
    "# Make the prediction on the meshed x-axis (ask for MSE as well)"
   ]
  },
  {
   "cell_type": "code",
   "execution_count": null,
   "metadata": {},
   "outputs": [],
   "source": [
    "# X_train,X_test,y_train,y_test"
   ]
  },
  {
   "cell_type": "code",
   "execution_count": null,
   "metadata": {},
   "outputs": [],
   "source": [
    "# from sklearn.gaussian_process import GaussianProcessRegressor\n",
    "# from sklearn.gaussian_process.kernels import DotProduct, WhiteKernel\n",
    "\n",
    "# kernel = DotProduct() + WhiteKernel()\n",
    "# gp = GaussianProcessRegressor(kernel=kernel, random_state=0)\n",
    "\n",
    "# gp.fit(X_train, y_train)"
   ]
  },
  {
   "cell_type": "code",
   "execution_count": null,
   "metadata": {},
   "outputs": [],
   "source": [
    "gp.get_params()"
   ]
  },
  {
   "cell_type": "code",
   "execution_count": null,
   "metadata": {},
   "outputs": [],
   "source": [
    "train_prediction = gp.predict(X_train)\n",
    "# train_prediction\n",
    "test_prediction = gp.predict(X_test)\n",
    "# test_prediction"
   ]
  },
  {
   "cell_type": "code",
   "execution_count": null,
   "metadata": {},
   "outputs": [],
   "source": [
    "# test_prediction = model.predict(X_test)"
   ]
  },
  {
   "cell_type": "code",
   "execution_count": null,
   "metadata": {},
   "outputs": [],
   "source": [
    "print('Train RMSE = {:.2f}'.format(rmse(y_train,train_prediction)))\n",
    "print('Test RMSE = {:.2f}'.format(rmse(y_test,test_prediction)))"
   ]
  },
  {
   "cell_type": "code",
   "execution_count": null,
   "metadata": {},
   "outputs": [],
   "source": [
    "fig = plt.figure(figsize = (12, 6))\n",
    "\n",
    "plt.title(\"Coulomb matrix fingerprint and Ridge regression\")\n",
    "plt.scatter(y_train, gp.predict(X_train), label = 'Train RMSE = {:.2f}'.format(rmse(y_train,train_prediction)))\n",
    "plt.scatter(y_test, gp.predict(X_test), label = 'Test RMSE = {:.2f}'.format(rmse(y_test,test_prediction)))\n",
    "plt.plot(y_test, y_test, linestyle = \"--\", color = \"k\")\n",
    "plt.xlabel(\"$E_{true}$\")\n",
    "plt.ylabel(\"$E_{pred}$\")\n",
    "plt.legend()\n",
    "plt.show()"
   ]
  },
  {
   "cell_type": "markdown",
   "metadata": {},
   "source": [
    "# Prepare submission to Kaggle"
   ]
  },
  {
   "cell_type": "code",
   "execution_count": null,
   "metadata": {},
   "outputs": [],
   "source": [
    "cmats_test = np.zeros((len(test),max_number_of_atoms))\n",
    "for i,atoms in enumerate(test.atoms):\n",
    "    if i%1000 == 0:\n",
    "        print(i)\n",
    "    cmat = coulomb_matrix(atoms,max_number_of_atoms)\n",
    "    cmats_test[i,:] = cmat.flatten()\n",
    "print(len(cmats))"
   ]
  },
  {
   "cell_type": "code",
   "execution_count": null,
   "metadata": {},
   "outputs": [],
   "source": [
    "X_test_kaggle = pd.DataFrame(data = cmats_test, index=test.index)\n",
    "X_test_kaggle.loc[:,:] = scaler.transform(X_test_kaggle)\n",
    "X_test_kaggle.head()"
   ]
  },
  {
   "cell_type": "code",
   "execution_count": null,
   "metadata": {},
   "outputs": [],
   "source": [
    "test_prediction_dataframe = pd.DataFrame(data = {'ID':test.index,\n",
    "                                                 'Voigt_modulus':model.predict(X_test_kaggle)})\n",
    "test_prediction_dataframe.head()"
   ]
  },
  {
   "cell_type": "code",
   "execution_count": null,
   "metadata": {},
   "outputs": [],
   "source": [
    "test_prediction_dataframe.to_csv(data_dir+'submission_test.csv',index=False)"
   ]
  },
  {
   "cell_type": "code",
   "execution_count": null,
   "metadata": {},
   "outputs": [],
   "source": []
  },
  {
   "cell_type": "code",
   "execution_count": null,
   "metadata": {},
   "outputs": [],
   "source": []
  }
 ],
 "metadata": {
  "kernelspec": {
   "display_name": "Python 3",
   "language": "python",
   "name": "python3"
  },
  "language_info": {
   "codemirror_mode": {
    "name": "ipython",
    "version": 3
   },
   "file_extension": ".py",
   "mimetype": "text/x-python",
   "name": "python",
   "nbconvert_exporter": "python",
   "pygments_lexer": "ipython3",
   "version": "3.8.5"
  }
 },
 "nbformat": 4,
 "nbformat_minor": 4
}
