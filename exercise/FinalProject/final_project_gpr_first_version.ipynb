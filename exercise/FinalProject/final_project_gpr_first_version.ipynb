{
 "cells": [
  {
   "cell_type": "code",
   "execution_count": 19,
   "metadata": {
    "colab": {
     "base_uri": "https://localhost:8080/"
    },
    "id": "YVqg1hUQ06U1",
    "outputId": "dff1f2b3-7345-46bb-c6de-53ada63fdfa8"
   },
   "outputs": [],
   "source": [
    "import numpy as np\n",
    "import pandas as pd\n",
    "import json\n",
    "#!pip install ase\n",
    "#from dscribe.descriptors import CoulombMatrix\n",
    "from ase import Atoms\n",
    "import matplotlib.pyplot as plt\n",
    "import matplotlib\n",
    "font = {'size'   : 22}\n",
    "\n"
   ]
  },
  {
   "cell_type": "code",
   "execution_count": 6,
   "metadata": {
    "id": "XKNvmEzN39Tx"
   },
   "outputs": [],
   "source": [
    "##"
   ]
  },
  {
   "cell_type": "markdown",
   "metadata": {
    "id": "hPGH8gcN39pv"
   },
   "source": [
    "## Importing data from google drive\n"
   ]
  },
  {
   "cell_type": "code",
   "execution_count": 7,
   "metadata": {
    "colab": {
     "base_uri": "https://localhost:8080/"
    },
    "id": "fkR0UCYV4AWl",
    "outputId": "5da95efd-10f4-4242-a161-0a6d2ca08b75"
   },
   "outputs": [
    {
     "name": "stdout",
     "output_type": "stream",
     "text": [
      "Mounted at /content/drive\n"
     ]
    }
   ],
   "source": [
    "from google.colab import drive\n",
    "drive.mount('')\n",
    "\n"
   ]
  },
  {
   "cell_type": "code",
   "execution_count": 2,
   "metadata": {
    "id": "S43l4BpE4EAo"
   },
   "outputs": [],
   "source": [
    "data_dir = ''\n",
    "# Loading the data as pandas DataFrame\n",
    "train = pd.DataFrame(json.load(open(data_dir + \"train.json\", \"rb\")))\n",
    "test = pd.DataFrame(json.load(open(data_dir + \"test.json\", \"rb\")))\n",
    "## Transform atoms entry to ASE atoms object\n",
    "train.atoms = train.atoms.apply(lambda x: Atoms(**x)) # OBS This one is important!\n",
    "test.atoms = test.atoms.apply(lambda x: Atoms(**x))"
   ]
  },
  {
   "cell_type": "code",
   "execution_count": 3,
   "metadata": {
    "colab": {
     "base_uri": "https://localhost:8080/",
     "height": 204
    },
    "id": "8foUmRPx4F89",
    "outputId": "3d20fbc5-d13b-4bc2-a800-e5765c82fb6c"
   },
   "outputs": [
    {
     "data": {
      "text/html": [
       "<div>\n",
       "<style scoped>\n",
       "    .dataframe tbody tr th:only-of-type {\n",
       "        vertical-align: middle;\n",
       "    }\n",
       "\n",
       "    .dataframe tbody tr th {\n",
       "        vertical-align: top;\n",
       "    }\n",
       "\n",
       "    .dataframe thead th {\n",
       "        text-align: right;\n",
       "    }\n",
       "</style>\n",
       "<table border=\"1\" class=\"dataframe\">\n",
       "  <thead>\n",
       "    <tr style=\"text-align: right;\">\n",
       "      <th></th>\n",
       "      <th>formula</th>\n",
       "      <th>etot</th>\n",
       "      <th>dynamic_stability_level</th>\n",
       "      <th>atoms</th>\n",
       "      <th>Voigt_modulus</th>\n",
       "    </tr>\n",
       "  </thead>\n",
       "  <tbody>\n",
       "    <tr>\n",
       "      <th>0</th>\n",
       "      <td>W2S2</td>\n",
       "      <td>-31.329664</td>\n",
       "      <td>1</td>\n",
       "      <td>(Atom('W', [1.52711328, 0.8816792633, 9.115147...</td>\n",
       "      <td>80.175958</td>\n",
       "    </tr>\n",
       "    <tr>\n",
       "      <th>1</th>\n",
       "      <td>NiI2</td>\n",
       "      <td>-9.774512</td>\n",
       "      <td>2</td>\n",
       "      <td>(Atom('Ni', [-7.814021732e-19, -1.673235808e-1...</td>\n",
       "      <td>31.358817</td>\n",
       "    </tr>\n",
       "    <tr>\n",
       "      <th>2</th>\n",
       "      <td>Ti3F2N2</td>\n",
       "      <td>-55.546656</td>\n",
       "      <td>1</td>\n",
       "      <td>(Atom('Ti', [0.0, 0.0, 11.208358341], index=0)...</td>\n",
       "      <td>155.068663</td>\n",
       "    </tr>\n",
       "    <tr>\n",
       "      <th>3</th>\n",
       "      <td>Hf4N3O2</td>\n",
       "      <td>-85.216280</td>\n",
       "      <td>3</td>\n",
       "      <td>(Atom('Hf', [0.0, 1.8605461437, 11.1322923235]...</td>\n",
       "      <td>279.073400</td>\n",
       "    </tr>\n",
       "    <tr>\n",
       "      <th>4</th>\n",
       "      <td>NbSTe</td>\n",
       "      <td>-19.876790</td>\n",
       "      <td>1</td>\n",
       "      <td>(Atom('Nb', [1.26844161e-17, -3.001405002e-18,...</td>\n",
       "      <td>55.639070</td>\n",
       "    </tr>\n",
       "  </tbody>\n",
       "</table>\n",
       "</div>"
      ],
      "text/plain": [
       "   formula       etot  dynamic_stability_level  \\\n",
       "0     W2S2 -31.329664                        1   \n",
       "1     NiI2  -9.774512                        2   \n",
       "2  Ti3F2N2 -55.546656                        1   \n",
       "3  Hf4N3O2 -85.216280                        3   \n",
       "4    NbSTe -19.876790                        1   \n",
       "\n",
       "                                               atoms  Voigt_modulus  \n",
       "0  (Atom('W', [1.52711328, 0.8816792633, 9.115147...      80.175958  \n",
       "1  (Atom('Ni', [-7.814021732e-19, -1.673235808e-1...      31.358817  \n",
       "2  (Atom('Ti', [0.0, 0.0, 11.208358341], index=0)...     155.068663  \n",
       "3  (Atom('Hf', [0.0, 1.8605461437, 11.1322923235]...     279.073400  \n",
       "4  (Atom('Nb', [1.26844161e-17, -3.001405002e-18,...      55.639070  "
      ]
     },
     "execution_count": 3,
     "metadata": {},
     "output_type": "execute_result"
    }
   ],
   "source": [
    "train.head()"
   ]
  },
  {
   "cell_type": "code",
   "execution_count": 5,
   "metadata": {
    "colab": {
     "base_uri": "https://localhost:8080/"
    },
    "id": "RQiR6-5G95t6",
    "outputId": "ae4c56fe-183f-4247-aa11-1c2b86c29935"
   },
   "outputs": [
    {
     "data": {
      "text/plain": [
       "Atoms(symbols='Ti3N2F2', pbc=[True, True, False], cell=[[2.9828259304, 0.0, 0.0], [-1.4914129652, 2.5832030308, 0.0], [0.0, 0.0, 22.4167172794]])"
      ]
     },
     "execution_count": 5,
     "metadata": {},
     "output_type": "execute_result"
    }
   ],
   "source": [
    "train.atoms[2]"
   ]
  },
  {
   "cell_type": "code",
   "execution_count": 6,
   "metadata": {
    "id": "dS2L5ory9-FL"
   },
   "outputs": [],
   "source": [
    "def pad_with(vector, pad_width, iaxis, kwargs):\n",
    "     pad_value = kwargs.get('padder', 10)\n",
    "     vector[:pad_width[0]] = pad_value\n",
    "     vector[-pad_width[1]:] = pad_value\n",
    "\n",
    "\n",
    "def coulomb_matrix(atoms, n_atoms_max):\n",
    "    # Creating a matrix with the product of the atomic numbers such that M_ij = Z[i]*Z[j]\n",
    "    atomic_numbers = np.outer(atoms.get_atomic_numbers(),atoms.get_atomic_numbers())\n",
    "    # Getting the distance matrix of the atoms object, such that element D_ij = |r_i - r_j|\n",
    "    distances = atoms.get_all_distances()\n",
    "    # Setting the diagonal elements, which are all zero, to 1 to avoid overflow errors\n",
    "    np.fill_diagonal(distances, 1)\n",
    "    \n",
    "    # Creating the Cmat\n",
    "    cmat = np.multiply(atomic_numbers, 1/distances) # Element wise multiplication\n",
    "    np.fill_diagonal(cmat, 0.5*np.array(atoms.get_atomic_numbers())**2.4) # Filling the diagonal as described in the slides\n",
    "    \n",
    "    # Taking the sorted eigenvalues and padding with zeros such that all of the fingerprints have the same size\n",
    "    shape = cmat.shape\n",
    "    cmat,_ = np.linalg.eig(cmat)\n",
    "    cmat = np.flip(np.sort(cmat))\n",
    "    holder = np.zeros(n_atoms_max)\n",
    "    holder[:shape[0]] = cmat\n",
    "    cmat = holder\n",
    "    \n",
    "    return cmat"
   ]
  },
  {
   "cell_type": "code",
   "execution_count": 7,
   "metadata": {
    "colab": {
     "base_uri": "https://localhost:8080/"
    },
    "id": "96VzP_BgA8sp",
    "outputId": "c416da5f-feb8-4b75-a6a2-032d63f0909e"
   },
   "outputs": [
    {
     "name": "stdout",
     "output_type": "stream",
     "text": [
      "12\n"
     ]
    },
    {
     "name": "stderr",
     "output_type": "stream",
     "text": [
      "C:\\software\\anoconda\\lib\\site-packages\\ase\\atoms.py:971: VisibleDeprecationWarning: Use get_global_number_of_atoms() instead\n",
      "  warnings.warn('Use get_global_number_of_atoms() instead',\n"
     ]
    }
   ],
   "source": [
    "species = []\n",
    "number_of_atoms = []\n",
    "atomic_numbers = []\n",
    "for atom in pd.concat([train.atoms,test.atoms]):\n",
    "    species = list(set(species+atom.get_chemical_symbols()))\n",
    "    atomic_numbers = list(set(atomic_numbers+list(atom.get_atomic_numbers())))\n",
    "    number_of_atoms.append(atom.get_number_of_atoms())\n",
    "\n",
    "max_number_of_atoms = np.max(number_of_atoms)\n",
    "min_atomic_number = np.min(atomic_numbers)\n",
    "\n",
    "print(max_number_of_atoms)"
   ]
  },
  {
   "cell_type": "code",
   "execution_count": 20,
   "metadata": {
    "colab": {
     "base_uri": "https://localhost:8080/"
    },
    "id": "QBBGEdG3A-PT",
    "outputId": "0aa5f592-7e26-4f95-c86c-a35dc16f347e"
   },
   "outputs": [
    {
     "name": "stdout",
     "output_type": "stream",
     "text": [
      "0\n",
      "1000\n",
      "2000\n",
      "2028\n"
     ]
    }
   ],
   "source": [
    "cmats = np.zeros((len(train),max_number_of_atoms))\n",
    "for i,atoms in enumerate(train.atoms):   #train\n",
    "    if i%1000 == 0:\n",
    "        print(i)\n",
    "    cmat = coulomb_matrix(atoms,max_number_of_atoms)\n",
    "    cmats[i,:] = cmat.flatten()\n",
    "print(len(cmats))"
   ]
  },
  {
   "cell_type": "code",
   "execution_count": 9,
   "metadata": {
    "colab": {
     "base_uri": "https://localhost:8080/"
    },
    "id": "DH3kwYs2BAB4",
    "outputId": "99bb3617-1a64-47f8-b404-c9dd1fe5f029"
   },
   "outputs": [
    {
     "name": "stdout",
     "output_type": "stream",
     "text": [
      "X: (2028, 12)\n",
      "y: (2028,)\n"
     ]
    }
   ],
   "source": [
    "X = pd.DataFrame(data = cmats, index=train.index)\n",
    "y = train['Voigt_modulus']\n",
    "print('X: {}'.format(X.shape))\n",
    "print('y: {}'.format(y.shape))"
   ]
  },
  {
   "cell_type": "code",
   "execution_count": 10,
   "metadata": {
    "colab": {
     "base_uri": "https://localhost:8080/"
    },
    "id": "9sKjAICMBGLu",
    "outputId": "ee40e13d-bf79-4194-e191-bd15defc9a56"
   },
   "outputs": [
    {
     "name": "stderr",
     "output_type": "stream",
     "text": [
      "C:\\software\\anoconda\\lib\\site-packages\\sklearn\\gaussian_process\\_gpr.py:504: ConvergenceWarning: lbfgs failed to converge (status=2):\n",
      "ABNORMAL_TERMINATION_IN_LNSRCH.\n",
      "\n",
      "Increase the number of iterations (max_iter) or scale the data as shown in:\n",
      "    https://scikit-learn.org/stable/modules/preprocessing.html\n",
      "  _check_optimize_result(\"lbfgs\", opt_res)\n"
     ]
    },
    {
     "data": {
      "text/plain": [
       "GaussianProcessRegressor(kernel=1**2 * RBF(length_scale=10),\n",
       "                         n_restarts_optimizer=9)"
      ]
     },
     "execution_count": 10,
     "metadata": {},
     "output_type": "execute_result"
    }
   ],
   "source": [
    "from sklearn.gaussian_process import GaussianProcessRegressor\n",
    "from sklearn.gaussian_process.kernels import RBF, ConstantKernel as C\n",
    "\n",
    "# Instantiate a Gaussian Process model\n",
    "kernel = C(1.0, (1e-3, 1e3)) * RBF(10, (1e-2, 1e2))\n",
    "gp = GaussianProcessRegressor(kernel=kernel, n_restarts_optimizer=9)\n",
    "\n",
    "# Fit to data using Maximum Likelihood Estimation of the parameters\n",
    "gp.fit(X, y)\n",
    "\n",
    "# Make the prediction on the meshed x-axis (ask for MSE as well)\n"
   ]
  },
  {
   "cell_type": "code",
   "execution_count": null,
   "metadata": {},
   "outputs": [],
   "source": []
  },
  {
   "cell_type": "code",
   "execution_count": 11,
   "metadata": {
    "colab": {
     "base_uri": "https://localhost:8080/"
    },
    "id": "TMdMC_hkBNaa",
    "outputId": "4306133a-4487-47d6-cac1-d50892bbc223"
   },
   "outputs": [
    {
     "data": {
      "text/plain": [
       "{'alpha': 1e-10,\n",
       " 'copy_X_train': True,\n",
       " 'kernel__k1': 1**2,\n",
       " 'kernel__k2': RBF(length_scale=10),\n",
       " 'kernel__k1__constant_value': 1.0,\n",
       " 'kernel__k1__constant_value_bounds': (0.001, 1000.0),\n",
       " 'kernel__k2__length_scale': 10,\n",
       " 'kernel__k2__length_scale_bounds': (0.01, 100.0),\n",
       " 'kernel': 1**2 * RBF(length_scale=10),\n",
       " 'n_restarts_optimizer': 9,\n",
       " 'normalize_y': False,\n",
       " 'optimizer': 'fmin_l_bfgs_b',\n",
       " 'random_state': None}"
      ]
     },
     "execution_count": 11,
     "metadata": {},
     "output_type": "execute_result"
    }
   ],
   "source": [
    "gp.get_params()"
   ]
  },
  {
   "cell_type": "code",
   "execution_count": 13,
   "metadata": {
    "id": "lu53VabFC5vf"
   },
   "outputs": [],
   "source": [
    "from sklearn.linear_model import LinearRegression\n",
    "from sklearn.metrics import mean_squared_error as mse\n",
    "from sklearn.preprocessing import StandardScaler\n",
    "\n",
    "def rmse(y_true, y_pred):\n",
    "    return np.sqrt(mse(y_true, y_pred))"
   ]
  },
  {
   "cell_type": "code",
   "execution_count": 14,
   "metadata": {
    "colab": {
     "base_uri": "https://localhost:8080/",
     "height": 434
    },
    "id": "niPXzhmFDCJP",
    "outputId": "7a91d67c-d904-492d-a4e5-087cf1f120a7"
   },
   "outputs": [
    {
     "data": {
      "image/png": "[encoded data removed]",
      "text/plain": [
       "<Figure size 864x432 with 1 Axes>"
      ]
     },
     "metadata": {
      "needs_background": "light"
     },
     "output_type": "display_data"
    }
   ],
   "source": [
    "from sklearn.model_selection import train_test_split\n",
    "\n",
    "X_train,X_test,y_train,y_test = train_test_split(X,y,test_size=0.2,random_state=250)\n",
    "\n",
    "plt.figure(figsize = (12, 6))\n",
    "plt.hist(y_train, bins=30, alpha=0.7, density=True, label='Train set')\n",
    "plt.hist(y_test, bins=30, alpha=0.7, density=True, label='Test set')\n",
    "\n",
    "plt.title(\"Normalized histogram of test and train sets\")\n",
    "plt.xlabel(\"Voigt modulus, GPa\")\n",
    "plt.legend()\n",
    "plt.show()"
   ]
  },
  {
   "cell_type": "code",
   "execution_count": 15,
   "metadata": {
    "colab": {
     "base_uri": "https://localhost:8080/"
    },
    "id": "h6fRBDN7DIWH",
    "outputId": "72d9196d-129b-44af-f1c4-d3a493994b61"
   },
   "outputs": [
    {
     "name": "stdout",
     "output_type": "stream",
     "text": [
      "                0             1            2            3            4   \\\n",
      "951   19986.308055  17014.441118   490.814141   347.960775   334.507228   \n",
      "1357   1473.457186    905.697035   341.199042   320.630069     0.000000   \n",
      "232    7781.725144   6373.178436  3356.557732  2822.242023     0.000000   \n",
      "1568   4647.985244   3257.617709    97.857082    57.632492    55.373688   \n",
      "1723   7751.564395   6095.062416  1656.214407     0.000000     0.000000   \n",
      "...            ...           ...          ...          ...          ...   \n",
      "1015   4657.735210     79.493681    51.536236     0.000000     0.000000   \n",
      "1760   9663.022554   6180.212697  6116.367843  6108.742080  5764.973367   \n",
      "218   16814.649374  12882.711658   413.696606   311.587230     0.000000   \n",
      "589   19598.251736     69.271561     0.000000     0.000000     0.000000   \n",
      "1902  19785.373173  16106.811638   466.607964   398.212968    71.176727   \n",
      "\n",
      "               5           6           7           8           9    10   11  \n",
      "951    311.180038    0.000000    0.000000    0.000000    0.000000  0.0  0.0  \n",
      "1357     0.000000    0.000000    0.000000    0.000000    0.000000  0.0  0.0  \n",
      "232      0.000000    0.000000    0.000000    0.000000    0.000000  0.0  0.0  \n",
      "1568    44.403966    0.000000    0.000000    0.000000    0.000000  0.0  0.0  \n",
      "1723     0.000000    0.000000    0.000000    0.000000    0.000000  0.0  0.0  \n",
      "...           ...         ...         ...         ...         ...  ...  ...  \n",
      "1015     0.000000    0.000000    0.000000    0.000000    0.000000  0.0  0.0  \n",
      "1760  5764.118618  764.219295  631.344762  336.734971  228.433317  0.0  0.0  \n",
      "218      0.000000    0.000000    0.000000    0.000000    0.000000  0.0  0.0  \n",
      "589      0.000000    0.000000    0.000000    0.000000    0.000000  0.0  0.0  \n",
      "1902    51.242510    0.000000    0.000000    0.000000    0.000000  0.0  0.0  \n",
      "\n",
      "[1622 rows x 12 columns]\n"
     ]
    }
   ],
   "source": [
    "print(X_train)"
   ]
  },
  {
   "cell_type": "code",
   "execution_count": 16,
   "metadata": {
    "id": "WXQMUYEDCwwP"
   },
   "outputs": [],
   "source": [
    "test_prediction = gp.predict(X_test)\n",
    "train_prediction = gp.predict(X_train)\n"
   ]
  },
  {
   "cell_type": "code",
   "execution_count": 17,
   "metadata": {
    "colab": {
     "base_uri": "https://localhost:8080/"
    },
    "id": "89Ij5CHLDKXI",
    "outputId": "825ce7af-a383-4677-9a01-5a43dffec97e"
   },
   "outputs": [
    {
     "name": "stdout",
     "output_type": "stream",
     "text": [
      "Train RMSE = 0.08\n",
      "Test RMSE = 0.10\n"
     ]
    }
   ],
   "source": [
    "print('Train RMSE = {:.2f}'.format(rmse(y_train,train_prediction)))\n",
    "print('Test RMSE = {:.2f}'.format(rmse(y_test,test_prediction)))"
   ]
  },
  {
   "cell_type": "code",
   "execution_count": 18,
   "metadata": {
    "colab": {
     "base_uri": "https://localhost:8080/",
     "height": 438
    },
    "id": "rRGYQN94Dq41",
    "outputId": "598b7d6a-844a-4968-8821-5b850f063378"
   },
   "outputs": [
    {
     "data": {
      "image/png": "[encoded data removed]",
      "text/plain": [
       "<Figure size 864x432 with 1 Axes>"
      ]
     },
     "metadata": {
      "needs_background": "light"
     },
     "output_type": "display_data"
    }
   ],
   "source": [
    "fig = plt.figure(figsize = (12, 6))\n",
    "\n",
    "plt.title(\"Coulomb matrix fingerprint and GP regression\")\n",
    "plt.scatter(y_train, gp.predict(X_train), label = 'Train RMSE = {:.2f}'.format(rmse(y_train,train_prediction)))\n",
    "plt.scatter(y_test, gp.predict(X_test), label = 'Test RMSE = {:.2f}'.format(rmse(y_test,test_prediction)))\n",
    "plt.plot(y_test, y_test, linestyle = \"--\", color = \"k\")\n",
    "plt.xlabel(\"$E_{true}$\")\n",
    "plt.ylabel(\"$E_{pred}$\")\n",
    "plt.legend()\n",
    "plt.show()  "
   ]
  },
  {
   "cell_type": "code",
   "execution_count": null,
   "metadata": {
    "id": "KRNsGj4cDt_9"
   },
   "outputs": [],
   "source": []
  }
 ],
 "metadata": {
  "accelerator": "GPU",
  "colab": {
   "name": "final_project",
   "provenance": []
  },
  "kernelspec": {
   "display_name": "Python 3",
   "language": "python",
   "name": "python3"
  },
  "language_info": {
   "codemirror_mode": {
    "name": "ipython",
    "version": 3
   },
   "file_extension": ".py",
   "mimetype": "text/x-python",
   "name": "python",
   "nbconvert_exporter": "python",
   "pygments_lexer": "ipython3",
   "version": "3.8.5"
  }
 },
 "nbformat": 4,
 "nbformat_minor": 1
}
